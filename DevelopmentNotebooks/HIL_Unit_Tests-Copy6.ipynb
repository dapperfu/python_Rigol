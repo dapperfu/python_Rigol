{
 "cells": [
  {
   "cell_type": "markdown",
   "metadata": {},
   "source": [
    "# Hard\n",
    "\n",
    "- Tested On:\n",
    "    - Ubuntu 18.04 x86 \n",
    "        -pyvisa (backend: pyvisa-py)\n",
    "    - Windows 10:\n",
    "        -pyvisa (backend: NI-VISA)\n",
    "\n",
    "\n",
    "## TODO:\n",
    "\n",
    "Testing on more platforms:\n",
    "\n",
    "- raspberrypi4.\n",
    "- FreeBSD."
   ]
  },
  {
   "cell_type": "code",
   "execution_count": 1,
   "metadata": {},
   "outputs": [],
   "source": [
    "import time\n",
    "import mhs5200"
   ]
  },
  {
   "cell_type": "code",
   "execution_count": 2,
   "metadata": {},
   "outputs": [],
   "source": [
    "import platform"
   ]
  },
  {
   "cell_type": "code",
   "execution_count": 3,
   "metadata": {},
   "outputs": [],
   "source": [
    "import os"
   ]
  },
  {
   "cell_type": "code",
   "execution_count": 7,
   "metadata": {},
   "outputs": [],
   "source": [
    "if os.name == \"posix\":\n",
    "    signal_gen_port = \"/dev/ttyUSB0\"\n",
    "    oscilloscope_port = scope_port = 'USB0::6833::1416::DS1EU152500705\\x00::0::INSTR'\n",
    "if os.name == \"nt\":\n",
    "    signal_gen_port = \"COM4\"\n",
    "    oscilloscope_port = scope_port = 'USB0::0x1AB1::0x0588::DS1EU152500705::INSTR'"
   ]
  },
  {
   "cell_type": "code",
   "execution_count": 8,
   "metadata": {},
   "outputs": [],
   "source": [
    "import mhs5200.enums"
   ]
  },
  {
   "cell_type": "code",
   "execution_count": 9,
   "metadata": {},
   "outputs": [],
   "source": [
    "with mhs5200.MHS5200(signal_gen_port) as signal_generator:\n",
    "    for channel in signal_generator.channels:\n",
    "        channel.amplitude=1\n",
    "        channel.duty_cycle=50\n",
    "        channel.frequency=1\n",
    "        channel.offset=0\n",
    "        channel.phase=0\n",
    "        channel.wave=mhs5200.enums.SQUARE"
   ]
  },
  {
   "cell_type": "code",
   "execution_count": 15,
   "metadata": {
    "scrolled": true
   },
   "outputs": [
    {
     "name": "stdout",
     "output_type": "stream",
     "text": [
      "('ASRL/dev/ttyS4::INSTR', 'ASRL/dev/ttyUSB0::INSTR', 'USB0::6833::1416::DS1EU152500705\\x00::0::INSTR')\n"
     ]
    }
   ],
   "source": [
    "import pyvisa\n",
    "rm = pyvisa.ResourceManager('@py')\n",
    "print(rm.list_resources())"
   ]
  },
  {
   "cell_type": "code",
   "execution_count": 16,
   "metadata": {},
   "outputs": [],
   "source": [
    "import uuid"
   ]
  },
  {
   "cell_type": "code",
   "execution_count": 17,
   "metadata": {},
   "outputs": [],
   "source": [
    "class Scope():\n",
    "    def __init__(self, *args, oscilloscope=None, oscilloscope_port=None):\n",
    "        if oscilloscope_port is not None:\n",
    "            self.resource = rm.open_resource(oscilloscope_port)\n",
    "        else:\n",
    "            self.resource = oscilloscope\n",
    "            \n",
    "        for fcn in [\"write\", \"query\", \"close\", \"query_ascii_values\"]:\n",
    "            setattr(self, fcn, getattr(self.resource, fcn))\n",
    "        \n",
    "    def __enter__(self):\n",
    "        return self\n",
    "    \n",
    "    def __exit__(self, type, value, tb):\n",
    "        t1=time.time()\n",
    "        try:\n",
    "            while True:\n",
    "                if time.time()>t1+5:\n",
    "                    break\n",
    "                self.close()\n",
    "                time.sleep(0.2)\n",
    "        except InvalidSession:\n",
    "            pass\n",
    "        except:\n",
    "            raise"
   ]
  },
  {
   "cell_type": "code",
   "execution_count": 22,
   "metadata": {},
   "outputs": [],
   "source": [
    "import pandas as pd"
   ]
  },
  {
   "cell_type": "code",
   "execution_count": 33,
   "metadata": {},
   "outputs": [],
   "source": [
    "def test_frequency_amplitude3(frequency, amplitude, signal_gen, scope):\n",
    "    for chan in signal_gen.channels:\n",
    "        chan.frequency=frequency\n",
    "        chan.amplitude=amplitude\n",
    "        chan.phase=0\n",
    "    \n",
    "    period = 1/float(frequency)\n",
    "    timescale=\"{:.20f}\".format(float(period/5))\n",
    "    # Configure scope\n",
    "    \n",
    "    scope.write(f\":MEASURE:TOTAL ON\")\n",
    "    scope.write(f\":TIMebase:SCALE {timescale}\")\n",
    "    for scope_channel in [1, 2]:\n",
    "        scope.write(f\":CHANNEL{scope_channel}:probe 1\")\n",
    "        scope.write(f\":CHANNEL{scope_channel}:scale {amplitude/5}\")\n",
    "        scope.write(f\":CHANNEL{scope_channel}:offset 0\")\n",
    "    # Configure signal generator\n",
    "    for chan in signal_gen.channels:\n",
    "        chan.frequency=frequency\n",
    "        chan.amplitude=amplitude\n",
    "        chan.offset = 0\n",
    "        chan.phase=0\n",
    "\n",
    "    df = dict()\n",
    "    df[\"uuid\"] = str(uuid.uuid4())\n",
    "    df[\"frequency\"] = frequency\n",
    "    df[\"amplitude\"] = amplitude\n",
    "    for source in [\"CHAN1\", \"CHAN2\"]:\n",
    "        scope.write(f\":MEASURE:SOURCE {source}\")\n",
    "        time.sleep(1)\n",
    "        for param in ['VPP',\n",
    "                        'VMAX',\n",
    "                        'VMIN',\n",
    "                        'VAMPlitude',\n",
    "                        'VTOP',\n",
    "                        'VBASe',\n",
    "                        'VAVerage',\n",
    "                        'VRMS',\n",
    "                        'OVERshoot',\n",
    "                        'PREShoot',\n",
    "                        'FREQuency',\n",
    "                        'RISetime',\n",
    "                        'FALLtime',\n",
    "                        'PERiod',\n",
    "                        'PWIDth',\n",
    "                        'NWIDth',\n",
    "                        'PDUTycycle',\n",
    "                        'NDUTycycle',\n",
    "                        'PDELay',\n",
    "                        'NDELay',\n",
    "                        'TOTal',\n",
    "                        'SOURce',]:\n",
    "            try:\n",
    "                measured = scope.query_ascii_values(f\":MEASURE:{param}?\")[0]\n",
    "                # Returns Junk\n",
    "                if measured == 9.9e+37:\n",
    "                    measured = np.nan\n",
    "            except:\n",
    "                measured = scope.query(f\":MEASURE:{param}?\")[0]\n",
    "\n",
    "            df[f\"{source}_{param}\"] = measured\n",
    "    return pd.DataFrame(df, index=[0])"
   ]
  },
  {
   "cell_type": "code",
   "execution_count": null,
   "metadata": {},
   "outputs": [],
   "source": [
    "import numpy as np"
   ]
  },
  {
   "cell_type": "code",
   "execution_count": null,
   "metadata": {},
   "outputs": [],
   "source": [
    "df = pd.DataFrame()\n",
    "with mhs5200.MHS5200(signal_gen_port) as signal_gen:\n",
    "    with Scope(oscilloscope_port=oscilloscope_port) as scope:\n",
    "        for _ in range(2):\n",
    "            for frequency in np.logspace(np.log10(1000), np.log10(1000000), 2):\n",
    "                for amplitude in [20]:\n",
    "                    result_df = test_frequency_amplitude3(frequency, amplitude, signal_gen=signal_gen, scope=scope)\n",
    "                    df = df.append(result_df)"
   ]
  },
  {
   "cell_type": "code",
   "execution_count": null,
   "metadata": {},
   "outputs": [],
   "source": [
    "df.groupby([\"frequency\"])[\"CHAN1_FREQuency\"].agg([\"mean\", \"median\", \"std\", \"var\"])"
   ]
  },
  {
   "cell_type": "code",
   "execution_count": 25,
   "metadata": {},
   "outputs": [],
   "source": [
    "import numpy as np"
   ]
  },
  {
   "cell_type": "code",
   "execution_count": 26,
   "metadata": {},
   "outputs": [],
   "source": [
    "frequencies = np.logspace(np.log10(1000000), np.log10(100000000), 10)\n",
    "amplitudes = [20]\n",
    "n_tests=1"
   ]
  },
  {
   "cell_type": "code",
   "execution_count": 27,
   "metadata": {},
   "outputs": [
    {
     "data": {
      "text/html": [
       "<div>\n",
       "<style scoped>\n",
       "    .dataframe tbody tr th:only-of-type {\n",
       "        vertical-align: middle;\n",
       "    }\n",
       "\n",
       "    .dataframe tbody tr th {\n",
       "        vertical-align: top;\n",
       "    }\n",
       "\n",
       "    .dataframe thead th {\n",
       "        text-align: right;\n",
       "    }\n",
       "</style>\n",
       "<table border=\"1\" class=\"dataframe\">\n",
       "  <thead>\n",
       "    <tr style=\"text-align: right;\">\n",
       "      <th></th>\n",
       "      <th>mean</th>\n",
       "      <th>median</th>\n",
       "      <th>std</th>\n",
       "      <th>var</th>\n",
       "    </tr>\n",
       "    <tr>\n",
       "      <th>frequency</th>\n",
       "      <th></th>\n",
       "      <th></th>\n",
       "      <th></th>\n",
       "      <th></th>\n",
       "    </tr>\n",
       "  </thead>\n",
       "  <tbody>\n",
       "    <tr>\n",
       "      <th>1.000000e+06</th>\n",
       "      <td>1.000000e+06</td>\n",
       "      <td>1.000000e+06</td>\n",
       "      <td>NaN</td>\n",
       "      <td>NaN</td>\n",
       "    </tr>\n",
       "    <tr>\n",
       "      <th>1.668101e+06</th>\n",
       "      <td>1.680000e+06</td>\n",
       "      <td>1.680000e+06</td>\n",
       "      <td>NaN</td>\n",
       "      <td>NaN</td>\n",
       "    </tr>\n",
       "    <tr>\n",
       "      <th>2.782559e+06</th>\n",
       "      <td>2.790000e+06</td>\n",
       "      <td>2.790000e+06</td>\n",
       "      <td>NaN</td>\n",
       "      <td>NaN</td>\n",
       "    </tr>\n",
       "    <tr>\n",
       "      <th>4.641589e+06</th>\n",
       "      <td>4.630000e+06</td>\n",
       "      <td>4.630000e+06</td>\n",
       "      <td>NaN</td>\n",
       "      <td>NaN</td>\n",
       "    </tr>\n",
       "    <tr>\n",
       "      <th>7.742637e+06</th>\n",
       "      <td>7.790000e+06</td>\n",
       "      <td>7.790000e+06</td>\n",
       "      <td>NaN</td>\n",
       "      <td>NaN</td>\n",
       "    </tr>\n",
       "    <tr>\n",
       "      <th>1.291550e+07</th>\n",
       "      <td>1.260000e+07</td>\n",
       "      <td>1.260000e+07</td>\n",
       "      <td>NaN</td>\n",
       "      <td>NaN</td>\n",
       "    </tr>\n",
       "    <tr>\n",
       "      <th>2.154435e+07</th>\n",
       "      <td>1.850000e+07</td>\n",
       "      <td>1.850000e+07</td>\n",
       "      <td>NaN</td>\n",
       "      <td>NaN</td>\n",
       "    </tr>\n",
       "    <tr>\n",
       "      <th>3.593814e+07</th>\n",
       "      <td>2.440000e+07</td>\n",
       "      <td>2.440000e+07</td>\n",
       "      <td>NaN</td>\n",
       "      <td>NaN</td>\n",
       "    </tr>\n",
       "    <tr>\n",
       "      <th>5.994843e+07</th>\n",
       "      <td>9.900000e+37</td>\n",
       "      <td>9.900000e+37</td>\n",
       "      <td>NaN</td>\n",
       "      <td>NaN</td>\n",
       "    </tr>\n",
       "    <tr>\n",
       "      <th>1.000000e+08</th>\n",
       "      <td>9.900000e+37</td>\n",
       "      <td>9.900000e+37</td>\n",
       "      <td>NaN</td>\n",
       "      <td>NaN</td>\n",
       "    </tr>\n",
       "  </tbody>\n",
       "</table>\n",
       "</div>"
      ],
      "text/plain": [
       "                      mean        median  std  var\n",
       "frequency                                         \n",
       "1.000000e+06  1.000000e+06  1.000000e+06  NaN  NaN\n",
       "1.668101e+06  1.680000e+06  1.680000e+06  NaN  NaN\n",
       "2.782559e+06  2.790000e+06  2.790000e+06  NaN  NaN\n",
       "4.641589e+06  4.630000e+06  4.630000e+06  NaN  NaN\n",
       "7.742637e+06  7.790000e+06  7.790000e+06  NaN  NaN\n",
       "1.291550e+07  1.260000e+07  1.260000e+07  NaN  NaN\n",
       "2.154435e+07  1.850000e+07  1.850000e+07  NaN  NaN\n",
       "3.593814e+07  2.440000e+07  2.440000e+07  NaN  NaN\n",
       "5.994843e+07  9.900000e+37  9.900000e+37  NaN  NaN\n",
       "1.000000e+08  9.900000e+37  9.900000e+37  NaN  NaN"
      ]
     },
     "execution_count": 27,
     "metadata": {},
     "output_type": "execute_result"
    }
   ],
   "source": [
    "df = pd.DataFrame()\n",
    "with mhs5200.MHS5200(signal_gen_port) as signal_gen:\n",
    "    with Scope(oscilloscope_port=oscilloscope_port) as scope:\n",
    "        for _ in range(n_tests):\n",
    "            for frequency in frequencies:\n",
    "                for amplitude in [20]:\n",
    "                    result_df = test_frequency_amplitude3(frequency, amplitude, signal_gen=signal_gen, scope=scope)\n",
    "                    df = df.append(result_df)\n",
    "df.groupby([\"frequency\"])[\"CHAN1_FREQuency\"].agg([\"mean\", \"median\", \"std\", \"var\"])"
   ]
  },
  {
   "cell_type": "code",
   "execution_count": 28,
   "metadata": {},
   "outputs": [],
   "source": [
    "scope=Scope(oscilloscope_port=oscilloscope_port)"
   ]
  },
  {
   "cell_type": "code",
   "execution_count": 30,
   "metadata": {},
   "outputs": [
    {
     "data": {
      "text/plain": [
       "True"
      ]
     },
     "execution_count": 30,
     "metadata": {},
     "output_type": "execute_result"
    }
   ],
   "source": [
    "param=\"FREQUENCY\"\n",
    "scope.query_ascii_values(f\":MEASURE:{param}?\")[0]==9.9e+37"
   ]
  },
  {
   "cell_type": "code",
   "execution_count": 31,
   "metadata": {},
   "outputs": [
    {
     "data": {
      "text/plain": [
       "nan"
      ]
     },
     "execution_count": 31,
     "metadata": {},
     "output_type": "execute_result"
    }
   ],
   "source": [
    "np.nan"
   ]
  },
  {
   "cell_type": "code",
   "execution_count": 34,
   "metadata": {},
   "outputs": [],
   "source": [
    "scope.close()"
   ]
  },
  {
   "cell_type": "code",
   "execution_count": 36,
   "metadata": {},
   "outputs": [],
   "source": [
    "df = pd.DataFrame()\n",
    "with mhs5200.MHS5200(signal_gen_port) as signal_gen:\n",
    "    with Scope(oscilloscope_port=oscilloscope_port) as scope:\n",
    "        test_frequency_amplitude3(100, 20, signal_gen, scope)"
   ]
  },
  {
   "cell_type": "code",
   "execution_count": null,
   "metadata": {},
   "outputs": [],
   "source": []
  }
 ],
 "metadata": {
  "kernelspec": {
   "display_name": "Python 3",
   "language": "python",
   "name": "python3"
  },
  "language_info": {
   "codemirror_mode": {
    "name": "ipython",
    "version": 3
   },
   "file_extension": ".py",
   "mimetype": "text/x-python",
   "name": "python",
   "nbconvert_exporter": "python",
   "pygments_lexer": "ipython3",
   "version": "3.8.0"
  }
 },
 "nbformat": 4,
 "nbformat_minor": 2
}
