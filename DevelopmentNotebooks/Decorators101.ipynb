{
 "cells": [
  {
   "cell_type": "markdown",
   "metadata": {},
   "source": [
    "Decorator Crash Course Through Examples"
   ]
  },
  {
   "cell_type": "code",
   "execution_count": 30,
   "metadata": {},
   "outputs": [],
   "source": [
    "def my_decorator(*args, **kwargs):\n",
    "    # Args in passed to the decorator\n",
    "    for idx, arg in enumerate(args):\n",
    "        print(f\"my_decorator {idx}: {arg}\")\n",
    "    for key,value in kwargs.items():\n",
    "        print(f\"my_decorator {key}: {value}\") \n",
    "    # The inner function \n",
    "    def inner_function(*args2, **kwargs2):        \n",
    "        for idx, arg in enumerate(args2):\n",
    "            print(f\"inner_function {idx}: {arg}\")\n",
    "        for key,value in kwargs2.items():\n",
    "            print(f\"inner_function {key}: {value}\")\n",
    "    return inner_function"
   ]
  },
  {
   "cell_type": "code",
   "execution_count": 31,
   "metadata": {},
   "outputs": [
    {
     "name": "stdout",
     "output_type": "stream",
     "text": [
      "my_decorator 0: <function MyClass.fcn1 at 0x7f28bd4c3e50>\n"
     ]
    }
   ],
   "source": [
    "class MyClass():\n",
    "    @my_decorator\n",
    "    def fcn1(*args, **kwargs):        \n",
    "        for idx, arg in enumerate(args):\n",
    "            print(f\"fcn1 {idx}: {arg}\")\n",
    "        for key,value in kwargs.items():\n",
    "            print(f\"fcn1 {key}: {value}\")\n",
    "        print(\"\")     \n",
    "    def __repr__(self):\n",
    "        return \"MyClass<!obj!>\""
   ]
  },
  {
   "cell_type": "code",
   "execution_count": 32,
   "metadata": {},
   "outputs": [],
   "source": [
    "a = MyClass()"
   ]
  },
  {
   "cell_type": "code",
   "execution_count": 33,
   "metadata": {},
   "outputs": [
    {
     "name": "stdout",
     "output_type": "stream",
     "text": [
      "inner_function 0: MyClass<!obj!>\n",
      "inner_function 1: 5\n",
      "inner_function 2: 6\n",
      "inner_function 3: 7\n",
      "inner_function foo: bar\n"
     ]
    }
   ],
   "source": [
    "a.fcn1(5, 6, 7, foo=\"bar\")"
   ]
  },
  {
   "cell_type": "code",
   "execution_count": null,
   "metadata": {},
   "outputs": [],
   "source": []
  },
  {
   "cell_type": "code",
   "execution_count": 26,
   "metadata": {},
   "outputs": [],
   "source": [
    "def my_decorator(*args, **kwargs):\n",
    "    # Args in passed to the decorator\n",
    "    for idx, arg in enumerate(args):\n",
    "        print(f\"my_decorator {idx}: {arg}\")\n",
    "    for key,value in kwargs.items():\n",
    "        print(f\"my_decorator {key}: {value}\") \n",
    "    # The inner function \n",
    "    def inner_function(*args2, **kwargs2):        \n",
    "        for idx, arg in enumerate(args2):\n",
    "            print(f\"inner_function {idx}: {arg}\")\n",
    "        for key,value in kwargs2.items():\n",
    "            print(f\"inner_function {key}: {value}\")\n",
    "    return inner_function"
   ]
  },
  {
   "cell_type": "code",
   "execution_count": null,
   "metadata": {},
   "outputs": [],
   "source": [
    "class MyClass():\n",
    "    @my_decorator\n",
    "    def fcn1(*args, **kwargs):        \n",
    "        for idx, arg in enumerate(args):\n",
    "            print(f\"fcn1 {idx}: {arg}\")\n",
    "        for key,value in kwargs.items():\n",
    "            print(f\"fcn1 {key}: {value}\")\n",
    "        print(\"\")\n",
    "        \n",
    "    #@my_decorator(1, 2, 3, foo=\"bar\")\n",
    "    def fcn2(*args, **kwargs):        \n",
    "        for idx, arg in enumerate(args):\n",
    "            print(f\"fcn2 {idx}: {arg}\")\n",
    "        for key,value in kwargs.items():\n",
    "            print(f\"fcn2 {key}: {value}\")\n",
    "        print(\"\")\n",
    "        \n",
    "    def __repr__(self):\n",
    "        return \"MyClass<!>\""
   ]
  }
 ],
 "metadata": {
  "kernelspec": {
   "display_name": "Python 3",
   "language": "python",
   "name": "python3"
  },
  "language_info": {
   "codemirror_mode": {
    "name": "ipython",
    "version": 3
   },
   "file_extension": ".py",
   "mimetype": "text/x-python",
   "name": "python",
   "nbconvert_exporter": "python",
   "pygments_lexer": "ipython3",
   "version": "3.8.0"
  }
 },
 "nbformat": 4,
 "nbformat_minor": 2
}
