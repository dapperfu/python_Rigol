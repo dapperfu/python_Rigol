{
 "cells": [
  {
   "cell_type": "markdown",
   "metadata": {},
   "source": [
    "# Hard\n",
    "- Test Environment: Windows 10, py-visa, NI-VISA\n",
    "\n",
    "\n",
    "## TODO:\n",
    "\n",
    "Testing on more platforms:\n",
    "\n",
    "- x86, ubuntu-18.04.\n",
    "- raspberrypi4.\n",
    "- FreeBSD."
   ]
  },
  {
   "cell_type": "code",
   "execution_count": 4,
   "metadata": {},
   "outputs": [],
   "source": [
    "import time\n",
    "import mhs5200"
   ]
  },
  {
   "cell_type": "code",
   "execution_count": 5,
   "metadata": {},
   "outputs": [],
   "source": [
    "signal_gen_port = \"COM4\"\n",
    "oscilloscope_port = scope_port = 'USB0::0x1AB1::0x0588::DS1EU152500705::INSTR'"
   ]
  },
  {
   "cell_type": "code",
   "execution_count": 6,
   "metadata": {},
   "outputs": [],
   "source": [
    "import mhs5200.Enums"
   ]
  },
  {
   "cell_type": "code",
   "execution_count": 7,
   "metadata": {},
   "outputs": [],
   "source": [
    "with mhs5200.MHS5200(signal_gen_port) as signal_generator:\n",
    "    for channel in signal_generator.channels:\n",
    "        channel.amplitude=1\n",
    "        channel.duty_cycle=50\n",
    "        channel.frequency=1\n",
    "        channel.offset=0\n",
    "        channel.phase=0\n",
    "        channel.wave=mhs5200.Enums.SQUARE"
   ]
  },
  {
   "cell_type": "code",
   "execution_count": 8,
   "metadata": {},
   "outputs": [],
   "source": [
    "import pyvisa\n",
    "rm = pyvisa.ResourceManager()\n",
    "rm.list_resources()\n",
    "\n",
    "scope = rm.open_resource(oscilloscope_port)"
   ]
  },
  {
   "cell_type": "code",
   "execution_count": 9,
   "metadata": {},
   "outputs": [],
   "source": [
    "import uuid"
   ]
  },
  {
   "cell_type": "code",
   "execution_count": 10,
   "metadata": {},
   "outputs": [],
   "source": [
    "class Scope():\n",
    "    def __init__(self, *args, oscilloscope=None, oscilloscope_port=None):\n",
    "        if oscilloscope_port is not None:\n",
    "            self.resource = rm.open_resource(oscilloscope_port)\n",
    "        else:\n",
    "            self.resource = oscilloscope\n",
    "            \n",
    "        for fcn in [\"write\", \"query\", \"close\", \"query_ascii_values\"]:\n",
    "            setattr(self, fcn, getattr(self.resource, fcn))\n",
    "        \n",
    "    def __enter__(self):\n",
    "        return self\n",
    "    \n",
    "    def __exit__(self, type, value, tb):\n",
    "        t1=time.time()\n",
    "        try:\n",
    "            while True:\n",
    "                if time.time()>t1+5:\n",
    "                    break\n",
    "                self.close()\n",
    "                time.sleep(0.2)\n",
    "        except InvalidSession:\n",
    "            pass\n",
    "        except:\n",
    "            raise"
   ]
  },
  {
   "cell_type": "code",
   "execution_count": 11,
   "metadata": {},
   "outputs": [],
   "source": [
    "scope = Scope(oscilloscope_port=oscilloscope_port)"
   ]
  },
  {
   "cell_type": "code",
   "execution_count": 12,
   "metadata": {},
   "outputs": [],
   "source": [
    "scope = Scope(oscilloscope_port=oscilloscope_port)"
   ]
  },
  {
   "cell_type": "code",
   "execution_count": 13,
   "metadata": {},
   "outputs": [],
   "source": [
    "scope.close()"
   ]
  },
  {
   "cell_type": "code",
   "execution_count": 14,
   "metadata": {},
   "outputs": [],
   "source": [
    "import pandas as pd"
   ]
  },
  {
   "cell_type": "code",
   "execution_count": 15,
   "metadata": {},
   "outputs": [],
   "source": [
    "def test_frequency_amplitude3(frequency, amplitude, signal_gen, scope):\n",
    "    for chan in signal_gen.channels:\n",
    "        chan.frequency=frequency\n",
    "        chan.amplitude=amplitude\n",
    "        chan.phase=0\n",
    "    \n",
    "    period = 1/float(frequency)\n",
    "    timescale=\"{:.20f}\".format(float(period/5))\n",
    "    # Configure scope\n",
    "    \n",
    "    scope.write(f\":MEASURE:TOTAL ON\")\n",
    "    scope.write(f\":TIMebase:SCALE {timescale}\")\n",
    "    for scope_channel in [1, 2]:\n",
    "        scope.write(f\":CHANNEL{scope_channel}:probe 1\")\n",
    "        scope.write(f\":CHANNEL{scope_channel}:scale {amplitude/5}\")\n",
    "        scope.write(f\":CHANNEL{scope_channel}:offset 0\")\n",
    "    # Configure signal generator\n",
    "    for chan in signal_gen.channels:\n",
    "        chan.frequency=frequency\n",
    "        chan.amplitude=amplitude\n",
    "        chan.offset = 0\n",
    "        chan.phase=0\n",
    "\n",
    "    df = dict()\n",
    "    df[\"uuid\"] = str(uuid.uuid4())\n",
    "    df[\"frequency\"] = frequency\n",
    "    df[\"amplitude\"] = amplitude\n",
    "    for source in [\"CHAN1\", \"CHAN2\"]:\n",
    "        scope.write(f\":MEASURE:SOURCE {source}\")\n",
    "        time.sleep(1)\n",
    "        for param in ['VPP',\n",
    "                        'VMAX',\n",
    "                        'VMIN',\n",
    "                        'VAMPlitude',\n",
    "                        'VTOP',\n",
    "                        'VBASe',\n",
    "                        'VAVerage',\n",
    "                        'VRMS',\n",
    "                        'OVERshoot',\n",
    "                        'PREShoot',\n",
    "                        'FREQuency',\n",
    "                        'RISetime',\n",
    "                        'FALLtime',\n",
    "                        'PERiod',\n",
    "                        'PWIDth',\n",
    "                        'NWIDth',\n",
    "                        'PDUTycycle',\n",
    "                        'NDUTycycle',\n",
    "                        'PDELay',\n",
    "                        'NDELay',\n",
    "                        'TOTal',\n",
    "                        'SOURce',]:\n",
    "            try:\n",
    "                measured = scope.query_ascii_values(f\":MEASURE:{param}?\")[0]\n",
    "            except:\n",
    "                measured = scope.query(f\":MEASURE:{param}?\")[0]\n",
    "\n",
    "            df[f\"{source}_{param}\"] = measured\n",
    "    return pd.DataFrame(df, index=[0])"
   ]
  },
  {
   "cell_type": "code",
   "execution_count": 17,
   "metadata": {},
   "outputs": [],
   "source": [
    "df = pd.DataFrame()\n",
    "with mhs5200.MHS5200(signal_gen_port) as signal_gen:\n",
    "    with Scope(oscilloscope_port=oscilloscope_port) as scope:\n",
    "        for frequency in [1, 10, 100]:\n",
    "            for amplitude in [1, 10, 20]:\n",
    "                result_df = test_frequency_amplitude3(frequency, amplitude, signal_gen=signal_gen, scope=scope)\n",
    "                df = df.append(result_df)"
   ]
  },
  {
   "cell_type": "code",
   "execution_count": 18,
   "metadata": {},
   "outputs": [],
   "source": [
    "import seaborn as sns\n",
    "\n",
    "sns.set(\n",
    "    rc={\n",
    "        \"figure.figsize\": (11, 8.5),\n",
    "        \"figure.dpi\": 300,\n",
    "        \"figure.facecolor\": \"w\",\n",
    "        \"figure.edgecolor\": \"k\",\n",
    "    }\n",
    ")\n",
    "palette = (sns.color_palette(\"Paired\"))\n",
    "sns.palplot(palette)\n",
    "sns.set_palette(palette)"
   ]
  },
  {
   "cell_type": "code",
   "execution_count": 23,
   "metadata": {},
   "outputs": [
    {
     "data": {
      "text/html": [
       "<div>\n",
       "<style scoped>\n",
       "    .dataframe tbody tr th:only-of-type {\n",
       "        vertical-align: middle;\n",
       "    }\n",
       "\n",
       "    .dataframe tbody tr th {\n",
       "        vertical-align: top;\n",
       "    }\n",
       "\n",
       "    .dataframe thead th {\n",
       "        text-align: right;\n",
       "    }\n",
       "</style>\n",
       "<table border=\"1\" class=\"dataframe\">\n",
       "  <thead>\n",
       "    <tr style=\"text-align: right;\">\n",
       "      <th></th>\n",
       "      <th></th>\n",
       "      <th>CHAN1_VPP</th>\n",
       "      <th>CHAN1_VMAX</th>\n",
       "      <th>CHAN1_VMIN</th>\n",
       "      <th>CHAN1_VAMPlitude</th>\n",
       "      <th>CHAN1_VTOP</th>\n",
       "      <th>CHAN1_VBASe</th>\n",
       "      <th>CHAN1_VAVerage</th>\n",
       "      <th>CHAN1_VRMS</th>\n",
       "      <th>CHAN1_OVERshoot</th>\n",
       "      <th>CHAN1_PREShoot</th>\n",
       "      <th>...</th>\n",
       "      <th>CHAN2_VAVerage</th>\n",
       "      <th>CHAN2_VRMS</th>\n",
       "      <th>CHAN2_OVERshoot</th>\n",
       "      <th>CHAN2_PREShoot</th>\n",
       "      <th>CHAN2_FREQuency</th>\n",
       "      <th>CHAN2_PERiod</th>\n",
       "      <th>CHAN2_PWIDth</th>\n",
       "      <th>CHAN2_NWIDth</th>\n",
       "      <th>CHAN2_PDUTycycle</th>\n",
       "      <th>CHAN2_NDUTycycle</th>\n",
       "    </tr>\n",
       "    <tr>\n",
       "      <th>frequency</th>\n",
       "      <th>amplitude</th>\n",
       "      <th></th>\n",
       "      <th></th>\n",
       "      <th></th>\n",
       "      <th></th>\n",
       "      <th></th>\n",
       "      <th></th>\n",
       "      <th></th>\n",
       "      <th></th>\n",
       "      <th></th>\n",
       "      <th></th>\n",
       "      <th></th>\n",
       "      <th></th>\n",
       "      <th></th>\n",
       "      <th></th>\n",
       "      <th></th>\n",
       "      <th></th>\n",
       "      <th></th>\n",
       "      <th></th>\n",
       "      <th></th>\n",
       "      <th></th>\n",
       "      <th></th>\n",
       "    </tr>\n",
       "  </thead>\n",
       "  <tbody>\n",
       "    <tr>\n",
       "      <th rowspan=\"3\" valign=\"top\">1</th>\n",
       "      <th>1</th>\n",
       "      <td>1.060</td>\n",
       "      <td>0.528</td>\n",
       "      <td>-0.528</td>\n",
       "      <td>0.991</td>\n",
       "      <td>0.520</td>\n",
       "      <td>-0.471</td>\n",
       "      <td>0.000413</td>\n",
       "      <td>0.497</td>\n",
       "      <td>0.00000</td>\n",
       "      <td>0.000000</td>\n",
       "      <td>...</td>\n",
       "      <td>-0.00269</td>\n",
       "      <td>0.0537</td>\n",
       "      <td>3.840000e-02</td>\n",
       "      <td>3.840000e-02</td>\n",
       "      <td>9.960000e-01</td>\n",
       "      <td>1.000000e+00</td>\n",
       "      <td>5.000000e-01</td>\n",
       "      <td>5.040000e-01</td>\n",
       "      <td>4.980000e-01</td>\n",
       "      <td>5.020000e-01</td>\n",
       "    </tr>\n",
       "    <tr>\n",
       "      <th>10</th>\n",
       "      <td>1.040</td>\n",
       "      <td>0.560</td>\n",
       "      <td>-0.480</td>\n",
       "      <td>0.884</td>\n",
       "      <td>0.438</td>\n",
       "      <td>-0.446</td>\n",
       "      <td>0.006400</td>\n",
       "      <td>0.431</td>\n",
       "      <td>0.04700</td>\n",
       "      <td>0.047000</td>\n",
       "      <td>...</td>\n",
       "      <td>-0.02000</td>\n",
       "      <td>0.5540</td>\n",
       "      <td>9.470000e-02</td>\n",
       "      <td>9.470000e-02</td>\n",
       "      <td>9.920000e-01</td>\n",
       "      <td>1.010000e+00</td>\n",
       "      <td>5.040000e-01</td>\n",
       "      <td>5.040000e-01</td>\n",
       "      <td>5.000000e-01</td>\n",
       "      <td>5.000000e-01</td>\n",
       "    </tr>\n",
       "    <tr>\n",
       "      <th>20</th>\n",
       "      <td>10.600</td>\n",
       "      <td>5.280</td>\n",
       "      <td>-5.280</td>\n",
       "      <td>10.300</td>\n",
       "      <td>5.120</td>\n",
       "      <td>-5.190</td>\n",
       "      <td>-0.015500</td>\n",
       "      <td>5.070</td>\n",
       "      <td>0.00000</td>\n",
       "      <td>0.000000</td>\n",
       "      <td>...</td>\n",
       "      <td>-0.01330</td>\n",
       "      <td>0.5060</td>\n",
       "      <td>9.900000e+37</td>\n",
       "      <td>9.900000e+37</td>\n",
       "      <td>9.900000e+37</td>\n",
       "      <td>9.900000e+37</td>\n",
       "      <td>9.900000e+37</td>\n",
       "      <td>9.900000e+37</td>\n",
       "      <td>9.900000e+37</td>\n",
       "      <td>9.900000e+37</td>\n",
       "    </tr>\n",
       "    <tr>\n",
       "      <th rowspan=\"3\" valign=\"top\">10</th>\n",
       "      <th>1</th>\n",
       "      <td>0.976</td>\n",
       "      <td>0.496</td>\n",
       "      <td>-0.480</td>\n",
       "      <td>0.950</td>\n",
       "      <td>0.481</td>\n",
       "      <td>-0.469</td>\n",
       "      <td>0.005470</td>\n",
       "      <td>0.476</td>\n",
       "      <td>0.01540</td>\n",
       "      <td>0.015400</td>\n",
       "      <td>...</td>\n",
       "      <td>-0.00024</td>\n",
       "      <td>0.0518</td>\n",
       "      <td>4.040000e-02</td>\n",
       "      <td>4.040000e-02</td>\n",
       "      <td>1.000000e+01</td>\n",
       "      <td>9.990000e-02</td>\n",
       "      <td>5.000000e-02</td>\n",
       "      <td>5.000000e-02</td>\n",
       "      <td>5.000000e-01</td>\n",
       "      <td>5.000000e-01</td>\n",
       "    </tr>\n",
       "    <tr>\n",
       "      <th>10</th>\n",
       "      <td>10.600</td>\n",
       "      <td>5.280</td>\n",
       "      <td>-5.280</td>\n",
       "      <td>10.400</td>\n",
       "      <td>5.200</td>\n",
       "      <td>-5.200</td>\n",
       "      <td>-0.022000</td>\n",
       "      <td>5.200</td>\n",
       "      <td>0.00751</td>\n",
       "      <td>0.000188</td>\n",
       "      <td>...</td>\n",
       "      <td>-0.00840</td>\n",
       "      <td>0.5480</td>\n",
       "      <td>8.990000e-02</td>\n",
       "      <td>1.700000e-02</td>\n",
       "      <td>1.000000e+01</td>\n",
       "      <td>9.990000e-02</td>\n",
       "      <td>5.000000e-02</td>\n",
       "      <td>5.000000e-02</td>\n",
       "      <td>5.000000e-01</td>\n",
       "      <td>5.000000e-01</td>\n",
       "    </tr>\n",
       "    <tr>\n",
       "      <th>20</th>\n",
       "      <td>21.000</td>\n",
       "      <td>10.600</td>\n",
       "      <td>-10.400</td>\n",
       "      <td>20.600</td>\n",
       "      <td>10.400</td>\n",
       "      <td>-10.200</td>\n",
       "      <td>0.044300</td>\n",
       "      <td>10.300</td>\n",
       "      <td>0.00763</td>\n",
       "      <td>0.000126</td>\n",
       "      <td>...</td>\n",
       "      <td>-0.00907</td>\n",
       "      <td>1.1000</td>\n",
       "      <td>1.350000e-02</td>\n",
       "      <td>8.640000e-02</td>\n",
       "      <td>1.000000e+01</td>\n",
       "      <td>9.990000e-02</td>\n",
       "      <td>5.000000e-02</td>\n",
       "      <td>5.000000e-02</td>\n",
       "      <td>5.000000e-01</td>\n",
       "      <td>5.000000e-01</td>\n",
       "    </tr>\n",
       "    <tr>\n",
       "      <th rowspan=\"3\" valign=\"top\">100</th>\n",
       "      <th>1</th>\n",
       "      <td>0.984</td>\n",
       "      <td>0.496</td>\n",
       "      <td>-0.488</td>\n",
       "      <td>0.963</td>\n",
       "      <td>0.492</td>\n",
       "      <td>-0.472</td>\n",
       "      <td>0.005840</td>\n",
       "      <td>0.479</td>\n",
       "      <td>0.00447</td>\n",
       "      <td>0.004470</td>\n",
       "      <td>...</td>\n",
       "      <td>-0.00040</td>\n",
       "      <td>0.0518</td>\n",
       "      <td>4.170000e-02</td>\n",
       "      <td>4.170000e-02</td>\n",
       "      <td>1.000000e+02</td>\n",
       "      <td>1.000000e-02</td>\n",
       "      <td>5.000000e-03</td>\n",
       "      <td>5.000000e-03</td>\n",
       "      <td>5.000000e-01</td>\n",
       "      <td>5.000000e-01</td>\n",
       "    </tr>\n",
       "    <tr>\n",
       "      <th>10</th>\n",
       "      <td>10.600</td>\n",
       "      <td>5.280</td>\n",
       "      <td>-5.360</td>\n",
       "      <td>10.400</td>\n",
       "      <td>5.220</td>\n",
       "      <td>-5.220</td>\n",
       "      <td>-0.020100</td>\n",
       "      <td>5.220</td>\n",
       "      <td>0.00560</td>\n",
       "      <td>0.005600</td>\n",
       "      <td>...</td>\n",
       "      <td>-0.00493</td>\n",
       "      <td>0.5540</td>\n",
       "      <td>7.830000e-02</td>\n",
       "      <td>7.830000e-02</td>\n",
       "      <td>1.000000e+02</td>\n",
       "      <td>1.000000e-02</td>\n",
       "      <td>5.000000e-03</td>\n",
       "      <td>5.000000e-03</td>\n",
       "      <td>5.000000e-01</td>\n",
       "      <td>5.000000e-01</td>\n",
       "    </tr>\n",
       "    <tr>\n",
       "      <th>20</th>\n",
       "      <td>21.100</td>\n",
       "      <td>10.700</td>\n",
       "      <td>-10.400</td>\n",
       "      <td>20.700</td>\n",
       "      <td>10.400</td>\n",
       "      <td>-10.300</td>\n",
       "      <td>0.049100</td>\n",
       "      <td>10.300</td>\n",
       "      <td>0.00584</td>\n",
       "      <td>0.005840</td>\n",
       "      <td>...</td>\n",
       "      <td>0.00320</td>\n",
       "      <td>1.1100</td>\n",
       "      <td>7.260000e-02</td>\n",
       "      <td>5.810000e-04</td>\n",
       "      <td>1.000000e+02</td>\n",
       "      <td>1.000000e-02</td>\n",
       "      <td>5.000000e-03</td>\n",
       "      <td>5.000000e-03</td>\n",
       "      <td>5.000000e-01</td>\n",
       "      <td>5.000000e-01</td>\n",
       "    </tr>\n",
       "  </tbody>\n",
       "</table>\n",
       "<p>9 rows × 32 columns</p>\n",
       "</div>"
      ],
      "text/plain": [
       "                     CHAN1_VPP  CHAN1_VMAX  CHAN1_VMIN  CHAN1_VAMPlitude  \\\n",
       "frequency amplitude                                                        \n",
       "1         1              1.060       0.528      -0.528             0.991   \n",
       "          10             1.040       0.560      -0.480             0.884   \n",
       "          20            10.600       5.280      -5.280            10.300   \n",
       "10        1              0.976       0.496      -0.480             0.950   \n",
       "          10            10.600       5.280      -5.280            10.400   \n",
       "          20            21.000      10.600     -10.400            20.600   \n",
       "100       1              0.984       0.496      -0.488             0.963   \n",
       "          10            10.600       5.280      -5.360            10.400   \n",
       "          20            21.100      10.700     -10.400            20.700   \n",
       "\n",
       "                     CHAN1_VTOP  CHAN1_VBASe  CHAN1_VAVerage  CHAN1_VRMS  \\\n",
       "frequency amplitude                                                        \n",
       "1         1               0.520       -0.471        0.000413       0.497   \n",
       "          10              0.438       -0.446        0.006400       0.431   \n",
       "          20              5.120       -5.190       -0.015500       5.070   \n",
       "10        1               0.481       -0.469        0.005470       0.476   \n",
       "          10              5.200       -5.200       -0.022000       5.200   \n",
       "          20             10.400      -10.200        0.044300      10.300   \n",
       "100       1               0.492       -0.472        0.005840       0.479   \n",
       "          10              5.220       -5.220       -0.020100       5.220   \n",
       "          20             10.400      -10.300        0.049100      10.300   \n",
       "\n",
       "                     CHAN1_OVERshoot  CHAN1_PREShoot        ...         \\\n",
       "frequency amplitude                                         ...          \n",
       "1         1                  0.00000        0.000000        ...          \n",
       "          10                 0.04700        0.047000        ...          \n",
       "          20                 0.00000        0.000000        ...          \n",
       "10        1                  0.01540        0.015400        ...          \n",
       "          10                 0.00751        0.000188        ...          \n",
       "          20                 0.00763        0.000126        ...          \n",
       "100       1                  0.00447        0.004470        ...          \n",
       "          10                 0.00560        0.005600        ...          \n",
       "          20                 0.00584        0.005840        ...          \n",
       "\n",
       "                     CHAN2_VAVerage  CHAN2_VRMS  CHAN2_OVERshoot  \\\n",
       "frequency amplitude                                                \n",
       "1         1                -0.00269      0.0537     3.840000e-02   \n",
       "          10               -0.02000      0.5540     9.470000e-02   \n",
       "          20               -0.01330      0.5060     9.900000e+37   \n",
       "10        1                -0.00024      0.0518     4.040000e-02   \n",
       "          10               -0.00840      0.5480     8.990000e-02   \n",
       "          20               -0.00907      1.1000     1.350000e-02   \n",
       "100       1                -0.00040      0.0518     4.170000e-02   \n",
       "          10               -0.00493      0.5540     7.830000e-02   \n",
       "          20                0.00320      1.1100     7.260000e-02   \n",
       "\n",
       "                     CHAN2_PREShoot  CHAN2_FREQuency  CHAN2_PERiod  \\\n",
       "frequency amplitude                                                  \n",
       "1         1            3.840000e-02     9.960000e-01  1.000000e+00   \n",
       "          10           9.470000e-02     9.920000e-01  1.010000e+00   \n",
       "          20           9.900000e+37     9.900000e+37  9.900000e+37   \n",
       "10        1            4.040000e-02     1.000000e+01  9.990000e-02   \n",
       "          10           1.700000e-02     1.000000e+01  9.990000e-02   \n",
       "          20           8.640000e-02     1.000000e+01  9.990000e-02   \n",
       "100       1            4.170000e-02     1.000000e+02  1.000000e-02   \n",
       "          10           7.830000e-02     1.000000e+02  1.000000e-02   \n",
       "          20           5.810000e-04     1.000000e+02  1.000000e-02   \n",
       "\n",
       "                     CHAN2_PWIDth  CHAN2_NWIDth  CHAN2_PDUTycycle  \\\n",
       "frequency amplitude                                                 \n",
       "1         1          5.000000e-01  5.040000e-01      4.980000e-01   \n",
       "          10         5.040000e-01  5.040000e-01      5.000000e-01   \n",
       "          20         9.900000e+37  9.900000e+37      9.900000e+37   \n",
       "10        1          5.000000e-02  5.000000e-02      5.000000e-01   \n",
       "          10         5.000000e-02  5.000000e-02      5.000000e-01   \n",
       "          20         5.000000e-02  5.000000e-02      5.000000e-01   \n",
       "100       1          5.000000e-03  5.000000e-03      5.000000e-01   \n",
       "          10         5.000000e-03  5.000000e-03      5.000000e-01   \n",
       "          20         5.000000e-03  5.000000e-03      5.000000e-01   \n",
       "\n",
       "                     CHAN2_NDUTycycle  \n",
       "frequency amplitude                    \n",
       "1         1              5.020000e-01  \n",
       "          10             5.000000e-01  \n",
       "          20             9.900000e+37  \n",
       "10        1              5.000000e-01  \n",
       "          10             5.000000e-01  \n",
       "          20             5.000000e-01  \n",
       "100       1              5.000000e-01  \n",
       "          10             5.000000e-01  \n",
       "          20             5.000000e-01  \n",
       "\n",
       "[9 rows x 32 columns]"
      ]
     },
     "execution_count": 23,
     "metadata": {},
     "output_type": "execute_result"
    }
   ],
   "source": [
    "df.groupby([\"frequency\", \"amplitude\"]).mean()"
   ]
  },
  {
   "cell_type": "code",
   "execution_count": 27,
   "metadata": {},
   "outputs": [
    {
     "data": {
      "text/plain": [
       "<matplotlib.axes._subplots.AxesSubplot at 0x1dcaf456a20>"
      ]
     },
     "execution_count": 27,
     "metadata": {},
     "output_type": "execute_result"
    },
    {
     "data": {
      "image/png": "[encoded data removed]",
      "text/plain": [
       "<Figure size 432x288 with 1 Axes>"
      ]
     },
     "metadata": {
      "needs_background": "light"
     },
     "output_type": "display_data"
    }
   ],
   "source": [
    "df.plot(x=\"frequency\", y=\"CHAN1_FREQuency\")"
   ]
  },
  {
   "cell_type": "code",
   "execution_count": 28,
   "metadata": {},
   "outputs": [],
   "source": [
    "df2=df[df.CHAN1_FREQuency<2000]"
   ]
  },
  {
   "cell_type": "code",
   "execution_count": 32,
   "metadata": {},
   "outputs": [
    {
     "data": {
      "text/plain": [
       "<matplotlib.axes._subplots.AxesSubplot at 0x1dcaebd3cc0>"
      ]
     },
     "execution_count": 32,
     "metadata": {},
     "output_type": "execute_result"
    },
    {
     "data": {
      "image/png": "[encoded data removed]",
      "text/plain": [
       "<Figure size 432x288 with 1 Axes>"
      ]
     },
     "metadata": {
      "needs_background": "light"
     },
     "output_type": "display_data"
    }
   ],
   "source": [
    "df2.plot(x=\"frequency\", y=\"CHAN1_FREQuency\", style=\".\")"
   ]
  },
  {
   "cell_type": "code",
   "execution_count": 34,
   "metadata": {},
   "outputs": [],
   "source": [
    "df3=df[df.frequency==1]"
   ]
  },
  {
   "cell_type": "code",
   "execution_count": 38,
   "metadata": {},
   "outputs": [
    {
     "data": {
      "text/html": [
       "<div>\n",
       "<style scoped>\n",
       "    .dataframe tbody tr th:only-of-type {\n",
       "        vertical-align: middle;\n",
       "    }\n",
       "\n",
       "    .dataframe tbody tr th {\n",
       "        vertical-align: top;\n",
       "    }\n",
       "\n",
       "    .dataframe thead th {\n",
       "        text-align: right;\n",
       "    }\n",
       "</style>\n",
       "<table border=\"1\" class=\"dataframe\">\n",
       "  <thead>\n",
       "    <tr style=\"text-align: right;\">\n",
       "      <th></th>\n",
       "      <th>frequency</th>\n",
       "      <th>CHAN1_FREQuency</th>\n",
       "    </tr>\n",
       "  </thead>\n",
       "  <tbody>\n",
       "    <tr>\n",
       "      <th>0</th>\n",
       "      <td>1</td>\n",
       "      <td>9.900000e+37</td>\n",
       "    </tr>\n",
       "    <tr>\n",
       "      <th>0</th>\n",
       "      <td>1</td>\n",
       "      <td>9.840000e-01</td>\n",
       "    </tr>\n",
       "    <tr>\n",
       "      <th>0</th>\n",
       "      <td>1</td>\n",
       "      <td>9.920000e-01</td>\n",
       "    </tr>\n",
       "  </tbody>\n",
       "</table>\n",
       "</div>"
      ],
      "text/plain": [
       "   frequency  CHAN1_FREQuency\n",
       "0          1     9.900000e+37\n",
       "0          1     9.840000e-01\n",
       "0          1     9.920000e-01"
      ]
     },
     "execution_count": 38,
     "metadata": {},
     "output_type": "execute_result"
    }
   ],
   "source": [
    "df3[[\"frequency\", \"CHAN1_FREQuency\"]]"
   ]
  },
  {
   "cell_type": "code",
   "execution_count": 35,
   "metadata": {},
   "outputs": [
    {
     "data": {
      "text/plain": [
       "<matplotlib.axes._subplots.AxesSubplot at 0x1dcaec44518>"
      ]
     },
     "execution_count": 35,
     "metadata": {},
     "output_type": "execute_result"
    },
    {
     "data": {
      "image/png": "[encoded data removed]",
      "text/plain": [
       "<Figure size 432x288 with 1 Axes>"
      ]
     },
     "metadata": {
      "needs_background": "light"
     },
     "output_type": "display_data"
    }
   ],
   "source": [
    "df3.plot(x=\"frequency\", y=\"CHAN1_FREQuency\", style=\".\")"
   ]
  },
  {
   "cell_type": "code",
   "execution_count": 41,
   "metadata": {},
   "outputs": [
    {
     "data": {
      "text/html": [
       "<div>\n",
       "<style scoped>\n",
       "    .dataframe tbody tr th:only-of-type {\n",
       "        vertical-align: middle;\n",
       "    }\n",
       "\n",
       "    .dataframe tbody tr th {\n",
       "        vertical-align: top;\n",
       "    }\n",
       "\n",
       "    .dataframe thead th {\n",
       "        text-align: right;\n",
       "    }\n",
       "</style>\n",
       "<table border=\"1\" class=\"dataframe\">\n",
       "  <thead>\n",
       "    <tr style=\"text-align: right;\">\n",
       "      <th></th>\n",
       "      <th>frequency</th>\n",
       "      <th>CHAN1_FREQuency</th>\n",
       "    </tr>\n",
       "  </thead>\n",
       "  <tbody>\n",
       "    <tr>\n",
       "      <th>0</th>\n",
       "      <td>10</td>\n",
       "      <td>10.0</td>\n",
       "    </tr>\n",
       "    <tr>\n",
       "      <th>0</th>\n",
       "      <td>10</td>\n",
       "      <td>10.0</td>\n",
       "    </tr>\n",
       "    <tr>\n",
       "      <th>0</th>\n",
       "      <td>10</td>\n",
       "      <td>10.0</td>\n",
       "    </tr>\n",
       "  </tbody>\n",
       "</table>\n",
       "</div>"
      ],
      "text/plain": [
       "   frequency  CHAN1_FREQuency\n",
       "0         10             10.0\n",
       "0         10             10.0\n",
       "0         10             10.0"
      ]
     },
     "execution_count": 41,
     "metadata": {},
     "output_type": "execute_result"
    }
   ],
   "source": [
    "df3=df[df.frequency==10]\n",
    "df3[[\"frequency\", \"CHAN1_FREQuency\"]]"
   ]
  },
  {
   "cell_type": "code",
   "execution_count": null,
   "metadata": {},
   "outputs": [],
   "source": [
    "data = scope.query_binary_values(\":WAVEFORM:DATA? CHAN1\")\n",
    "plt.plot(data)"
   ]
  },
  {
   "cell_type": "code",
   "execution_count": null,
   "metadata": {},
   "outputs": [],
   "source": [
    "df = pd.DataFrame()\n",
    "with mhs5200.MHS5200(signal_gen_port) as signal_gen:\n",
    "    with Scope(oscilloscope_port=oscilloscope_port) as scope:\n",
    "        for frequency in [1, 10, 100]:\n",
    "            for amplitude in [1, 10, 20]:\n",
    "                result_df = test_frequency_amplitude3(frequency, amplitude, signal_gen=signal_gen, scope=scope)\n",
    "                df = df.append(result_df)"
   ]
  },
  {
   "cell_type": "code",
   "execution_count": 44,
   "metadata": {},
   "outputs": [],
   "source": [
    "import numpy as np"
   ]
  },
  {
   "cell_type": "code",
   "execution_count": 46,
   "metadata": {},
   "outputs": [
    {
     "data": {
      "text/plain": [
       "5.0"
      ]
     },
     "execution_count": 46,
     "metadata": {},
     "output_type": "execute_result"
    }
   ],
   "source": [
    "np.log10(100000)"
   ]
  },
  {
   "cell_type": "code",
   "execution_count": 45,
   "metadata": {},
   "outputs": [
    {
     "data": {
      "text/plain": [
       "3.0"
      ]
     },
     "execution_count": 45,
     "metadata": {},
     "output_type": "execute_result"
    }
   ],
   "source": [
    "np.log10(1000)"
   ]
  },
  {
   "cell_type": "code",
   "execution_count": 48,
   "metadata": {},
   "outputs": [
    {
     "name": "stdout",
     "output_type": "stream",
     "text": [
      "100.0:0\n",
      "100.0:1\n",
      "100.0:2\n",
      "100.0:3\n",
      "100.0:4\n",
      "100.0:5\n",
      "100.0:6\n",
      "100.0:7\n",
      "100.0:8\n",
      "100.0:9\n",
      "100.0:10\n",
      "100.0:11\n",
      "100.0:12\n",
      "100.0:13\n",
      "100.0:14\n",
      "100.0:15\n",
      "100.0:16\n",
      "100.0:17\n",
      "100.0:18\n",
      "100.0:19\n",
      "126.48552168552958:0\n",
      "126.48552168552958:1\n",
      "126.48552168552958:2\n",
      "126.48552168552958:3\n",
      "126.48552168552958:4\n",
      "126.48552168552958:5\n",
      "126.48552168552958:6\n",
      "126.48552168552958:7\n",
      "126.48552168552958:8\n",
      "126.48552168552958:9\n",
      "126.48552168552958:10\n",
      "126.48552168552958:11\n",
      "126.48552168552958:12\n",
      "126.48552168552958:13\n",
      "126.48552168552958:14\n",
      "126.48552168552958:15\n",
      "126.48552168552958:16\n",
      "126.48552168552958:17\n",
      "126.48552168552958:18\n",
      "126.48552168552958:19\n",
      "159.98587196060572:0\n",
      "159.98587196060572:1\n",
      "159.98587196060572:2\n",
      "159.98587196060572:3\n",
      "159.98587196060572:4\n",
      "159.98587196060572:5\n",
      "159.98587196060572:6\n",
      "159.98587196060572:7\n",
      "159.98587196060572:8\n",
      "159.98587196060572:9\n",
      "159.98587196060572:10\n",
      "159.98587196060572:11\n",
      "159.98587196060572:12\n",
      "159.98587196060572:13\n",
      "159.98587196060572:14\n",
      "159.98587196060572:15\n",
      "159.98587196060572:16\n",
      "159.98587196060572:17\n",
      "159.98587196060572:18\n",
      "159.98587196060572:19\n",
      "202.35896477251575:0\n",
      "202.35896477251575:1\n",
      "202.35896477251575:2\n",
      "202.35896477251575:3\n",
      "202.35896477251575:4\n",
      "202.35896477251575:5\n",
      "202.35896477251575:6\n",
      "202.35896477251575:7\n",
      "202.35896477251575:8\n",
      "202.35896477251575:9\n",
      "202.35896477251575:10\n",
      "202.35896477251575:11\n",
      "202.35896477251575:12\n",
      "202.35896477251575:13\n",
      "202.35896477251575:14\n",
      "202.35896477251575:15\n",
      "202.35896477251575:16\n",
      "202.35896477251575:17\n",
      "202.35896477251575:18\n",
      "202.35896477251575:19\n",
      "255.95479226995357:0\n",
      "255.95479226995357:1\n",
      "255.95479226995357:2\n",
      "255.95479226995357:3\n",
      "255.95479226995357:4\n",
      "255.95479226995357:5\n",
      "255.95479226995357:6\n",
      "255.95479226995357:7\n",
      "255.95479226995357:8\n",
      "255.95479226995357:9\n",
      "255.95479226995357:10\n",
      "255.95479226995357:11\n",
      "255.95479226995357:12\n",
      "255.95479226995357:13\n",
      "255.95479226995357:14\n",
      "255.95479226995357:15\n",
      "255.95479226995357:16\n",
      "255.95479226995357:17\n",
      "255.95479226995357:18\n",
      "255.95479226995357:19\n",
      "323.74575428176433:0\n",
      "323.74575428176433:1\n",
      "323.74575428176433:2\n",
      "323.74575428176433:3\n",
      "323.74575428176433:4\n",
      "323.74575428176433:5\n",
      "323.74575428176433:6\n",
      "323.74575428176433:7\n",
      "323.74575428176433:8\n",
      "323.74575428176433:9\n",
      "323.74575428176433:10\n",
      "323.74575428176433:11\n",
      "323.74575428176433:12\n",
      "323.74575428176433:13\n",
      "323.74575428176433:14\n",
      "323.74575428176433:15\n",
      "323.74575428176433:16\n",
      "323.74575428176433:17\n",
      "323.74575428176433:18\n",
      "323.74575428176433:19\n",
      "409.49150623804275:0\n",
      "409.49150623804275:1\n",
      "409.49150623804275:2\n",
      "409.49150623804275:3\n",
      "409.49150623804275:4\n",
      "409.49150623804275:5\n",
      "409.49150623804275:6\n",
      "409.49150623804275:7\n",
      "409.49150623804275:8\n",
      "409.49150623804275:9\n",
      "409.49150623804275:10\n",
      "409.49150623804275:11\n",
      "409.49150623804275:12\n",
      "409.49150623804275:13\n",
      "409.49150623804275:14\n",
      "409.49150623804275:15\n",
      "409.49150623804275:16\n",
      "409.49150623804275:17\n",
      "409.49150623804275:18\n",
      "409.49150623804275:19\n",
      "517.9474679231213:0\n",
      "517.9474679231213:1\n",
      "517.9474679231213:2\n",
      "517.9474679231213:3\n",
      "517.9474679231213:4\n",
      "517.9474679231213:5\n",
      "517.9474679231213:6\n",
      "517.9474679231213:7\n",
      "517.9474679231213:8\n",
      "517.9474679231213:9\n",
      "517.9474679231213:10\n",
      "517.9474679231213:11\n",
      "517.9474679231213:12\n",
      "517.9474679231213:13\n",
      "517.9474679231213:14\n",
      "517.9474679231213:15\n",
      "517.9474679231213:16\n",
      "517.9474679231213:17\n",
      "517.9474679231213:18\n",
      "517.9474679231213:19\n",
      "655.1285568595509:0\n",
      "655.1285568595509:1\n",
      "655.1285568595509:2\n",
      "655.1285568595509:3\n",
      "655.1285568595509:4\n",
      "655.1285568595509:5\n",
      "655.1285568595509:6\n",
      "655.1285568595509:7\n",
      "655.1285568595509:8\n",
      "655.1285568595509:9\n",
      "655.1285568595509:10\n",
      "655.1285568595509:11\n",
      "655.1285568595509:12\n",
      "655.1285568595509:13\n",
      "655.1285568595509:14\n",
      "655.1285568595509:15\n",
      "655.1285568595509:16\n",
      "655.1285568595509:17\n",
      "655.1285568595509:18\n",
      "655.1285568595509:19\n",
      "828.6427728546843:0\n",
      "828.6427728546843:1\n",
      "828.6427728546843:2\n",
      "828.6427728546843:3\n",
      "828.6427728546843:4\n",
      "828.6427728546843:5\n",
      "828.6427728546843:6\n",
      "828.6427728546843:7\n",
      "828.6427728546843:8\n",
      "828.6427728546843:9\n",
      "828.6427728546843:10\n",
      "828.6427728546843:11\n",
      "828.6427728546843:12\n",
      "828.6427728546843:13\n",
      "828.6427728546843:14\n",
      "828.6427728546843:15\n",
      "828.6427728546843:16\n",
      "828.6427728546843:17\n",
      "828.6427728546843:18\n",
      "828.6427728546843:19\n",
      "1048.1131341546852:0\n",
      "1048.1131341546852:1\n",
      "1048.1131341546852:2\n",
      "1048.1131341546852:3\n",
      "1048.1131341546852:4\n",
      "1048.1131341546852:5\n",
      "1048.1131341546852:6\n",
      "1048.1131341546852:7\n",
      "1048.1131341546852:8\n",
      "1048.1131341546852:9\n",
      "1048.1131341546852:10\n",
      "1048.1131341546852:11\n",
      "1048.1131341546852:12\n",
      "1048.1131341546852:13\n",
      "1048.1131341546852:14\n",
      "1048.1131341546852:15\n",
      "1048.1131341546852:16\n",
      "1048.1131341546852:17\n",
      "1048.1131341546852:18\n",
      "1048.1131341546852:19\n",
      "1325.7113655901096:0\n",
      "1325.7113655901096:1\n",
      "1325.7113655901096:2\n",
      "1325.7113655901096:3\n",
      "1325.7113655901096:4\n",
      "1325.7113655901096:5\n",
      "1325.7113655901096:6\n",
      "1325.7113655901096:7\n",
      "1325.7113655901096:8\n",
      "1325.7113655901096:9\n",
      "1325.7113655901096:10\n",
      "1325.7113655901096:11\n",
      "1325.7113655901096:12\n",
      "1325.7113655901096:13\n",
      "1325.7113655901096:14\n",
      "1325.7113655901096:15\n",
      "1325.7113655901096:16\n",
      "1325.7113655901096:17\n",
      "1325.7113655901096:18\n",
      "1325.7113655901096:19\n",
      "1676.8329368110083:0\n",
      "1676.8329368110083:1\n",
      "1676.8329368110083:2\n",
      "1676.8329368110083:3\n",
      "1676.8329368110083:4\n",
      "1676.8329368110083:5\n",
      "1676.8329368110083:6\n",
      "1676.8329368110083:7\n",
      "1676.8329368110083:8\n",
      "1676.8329368110083:9\n",
      "1676.8329368110083:10\n",
      "1676.8329368110083:11\n",
      "1676.8329368110083:12\n",
      "1676.8329368110083:13\n",
      "1676.8329368110083:14\n",
      "1676.8329368110083:15\n",
      "1676.8329368110083:16\n",
      "1676.8329368110083:17\n",
      "1676.8329368110083:18\n",
      "1676.8329368110083:19\n",
      "2120.9508879201903:0\n",
      "2120.9508879201903:1\n",
      "2120.9508879201903:2\n",
      "2120.9508879201903:3\n",
      "2120.9508879201903:4\n",
      "2120.9508879201903:5\n",
      "2120.9508879201903:6\n"
     ]
    },
    {
     "ename": "SerialException",
     "evalue": "ClearCommError failed (PermissionError(13, 'Access is denied.', None, 5))",
     "output_type": "error",
     "traceback": [
      "\u001b[1;31m---------------------------------------------------------------------------\u001b[0m",
      "\u001b[1;31mSerialException\u001b[0m                           Traceback (most recent call last)",
      "\u001b[1;32m<ipython-input-48-ee55eb801acf>\u001b[0m in \u001b[0;36m<module>\u001b[1;34m\u001b[0m\n\u001b[0;32m      5\u001b[0m             \u001b[1;32mfor\u001b[0m \u001b[0mamplitude\u001b[0m \u001b[1;32min\u001b[0m \u001b[0mrange\u001b[0m\u001b[1;33m(\u001b[0m\u001b[1;36m20\u001b[0m\u001b[1;33m)\u001b[0m\u001b[1;33m:\u001b[0m\u001b[1;33m\u001b[0m\u001b[1;33m\u001b[0m\u001b[0m\n\u001b[0;32m      6\u001b[0m                 \u001b[0mprint\u001b[0m\u001b[1;33m(\u001b[0m\u001b[1;34mf\"{frequency}:{amplitude}\"\u001b[0m\u001b[1;33m)\u001b[0m\u001b[1;33m\u001b[0m\u001b[1;33m\u001b[0m\u001b[0m\n\u001b[1;32m----> 7\u001b[1;33m                 \u001b[0mresult_df\u001b[0m \u001b[1;33m=\u001b[0m \u001b[0mtest_frequency_amplitude3\u001b[0m\u001b[1;33m(\u001b[0m\u001b[0mfrequency\u001b[0m\u001b[1;33m,\u001b[0m \u001b[0mamplitude\u001b[0m\u001b[1;33m,\u001b[0m \u001b[0msignal_gen\u001b[0m\u001b[1;33m=\u001b[0m\u001b[0msignal_gen\u001b[0m\u001b[1;33m,\u001b[0m \u001b[0mscope\u001b[0m\u001b[1;33m=\u001b[0m\u001b[0mscope\u001b[0m\u001b[1;33m)\u001b[0m\u001b[1;33m\u001b[0m\u001b[1;33m\u001b[0m\u001b[0m\n\u001b[0m\u001b[0;32m      8\u001b[0m                 \u001b[0mdf\u001b[0m \u001b[1;33m=\u001b[0m \u001b[0mdf\u001b[0m\u001b[1;33m.\u001b[0m\u001b[0mappend\u001b[0m\u001b[1;33m(\u001b[0m\u001b[0mresult_df\u001b[0m\u001b[1;33m)\u001b[0m\u001b[1;33m\u001b[0m\u001b[1;33m\u001b[0m\u001b[0m\n\u001b[0;32m      9\u001b[0m \u001b[1;33m\u001b[0m\u001b[0m\n",
      "\u001b[1;32m<ipython-input-15-ed715090a25b>\u001b[0m in \u001b[0;36mtest_frequency_amplitude3\u001b[1;34m(frequency, amplitude, signal_gen, scope)\u001b[0m\n\u001b[0;32m     20\u001b[0m         \u001b[0mchan\u001b[0m\u001b[1;33m.\u001b[0m\u001b[0mamplitude\u001b[0m\u001b[1;33m=\u001b[0m\u001b[0mamplitude\u001b[0m\u001b[1;33m\u001b[0m\u001b[1;33m\u001b[0m\u001b[0m\n\u001b[0;32m     21\u001b[0m         \u001b[0mchan\u001b[0m\u001b[1;33m.\u001b[0m\u001b[0moffset\u001b[0m \u001b[1;33m=\u001b[0m \u001b[1;36m0\u001b[0m\u001b[1;33m\u001b[0m\u001b[1;33m\u001b[0m\u001b[0m\n\u001b[1;32m---> 22\u001b[1;33m         \u001b[0mchan\u001b[0m\u001b[1;33m.\u001b[0m\u001b[0mphase\u001b[0m\u001b[1;33m=\u001b[0m\u001b[1;36m0\u001b[0m\u001b[1;33m\u001b[0m\u001b[1;33m\u001b[0m\u001b[0m\n\u001b[0m\u001b[0;32m     23\u001b[0m \u001b[1;33m\u001b[0m\u001b[0m\n\u001b[0;32m     24\u001b[0m     \u001b[0mdf\u001b[0m \u001b[1;33m=\u001b[0m \u001b[0mdict\u001b[0m\u001b[1;33m(\u001b[0m\u001b[1;33m)\u001b[0m\u001b[1;33m\u001b[0m\u001b[1;33m\u001b[0m\u001b[0m\n",
      "\u001b[1;32mc:\\projects\\python_mhs5200\\mhs5200\\Channel.py\u001b[0m in \u001b[0;36mphase\u001b[1;34m(self, value)\u001b[0m\n\u001b[0;32m     69\u001b[0m     \u001b[1;32mdef\u001b[0m \u001b[0mphase\u001b[0m\u001b[1;33m(\u001b[0m\u001b[0mself\u001b[0m\u001b[1;33m,\u001b[0m \u001b[0mvalue\u001b[0m\u001b[1;33m)\u001b[0m\u001b[1;33m:\u001b[0m\u001b[1;33m\u001b[0m\u001b[1;33m\u001b[0m\u001b[0m\n\u001b[0;32m     70\u001b[0m         \u001b[0mraw_value\u001b[0m \u001b[1;33m=\u001b[0m \u001b[0mint\u001b[0m\u001b[1;33m(\u001b[0m\u001b[0mvalue\u001b[0m\u001b[1;33m)\u001b[0m\u001b[1;33m\u001b[0m\u001b[1;33m\u001b[0m\u001b[0m\n\u001b[1;32m---> 71\u001b[1;33m         \u001b[0mself\u001b[0m\u001b[1;33m.\u001b[0m\u001b[0m_phase\u001b[0m \u001b[1;33m=\u001b[0m \u001b[0mraw_value\u001b[0m\u001b[1;33m\u001b[0m\u001b[1;33m\u001b[0m\u001b[0m\n\u001b[0m\u001b[0;32m     72\u001b[0m \u001b[1;33m\u001b[0m\u001b[0m\n\u001b[0;32m     73\u001b[0m     \u001b[1;33m@\u001b[0m\u001b[0mproperty\u001b[0m\u001b[1;33m\u001b[0m\u001b[1;33m\u001b[0m\u001b[0m\n",
      "\u001b[1;32mc:\\projects\\python_mhs5200\\mhs5200\\Channel.py\u001b[0m in \u001b[0;36msetter_fcn\u001b[1;34m(self, value)\u001b[0m\n\u001b[0;32m    109\u001b[0m \u001b[1;32mdef\u001b[0m \u001b[0msetter_gen\u001b[0m\u001b[1;33m(\u001b[0m\u001b[0mparameter\u001b[0m\u001b[1;33m)\u001b[0m\u001b[1;33m:\u001b[0m\u001b[1;33m\u001b[0m\u001b[1;33m\u001b[0m\u001b[0m\n\u001b[0;32m    110\u001b[0m     \u001b[1;32mdef\u001b[0m \u001b[0msetter_fcn\u001b[0m\u001b[1;33m(\u001b[0m\u001b[0mself\u001b[0m\u001b[1;33m,\u001b[0m \u001b[0mvalue\u001b[0m\u001b[1;33m)\u001b[0m\u001b[1;33m:\u001b[0m\u001b[1;33m\u001b[0m\u001b[1;33m\u001b[0m\u001b[0m\n\u001b[1;32m--> 111\u001b[1;33m         \u001b[1;32mreturn\u001b[0m \u001b[0mself\u001b[0m\u001b[1;33m.\u001b[0m\u001b[0mdds\u001b[0m\u001b[1;33m.\u001b[0m\u001b[0m_set\u001b[0m\u001b[1;33m(\u001b[0m\u001b[0mself\u001b[0m\u001b[1;33m,\u001b[0m \u001b[0mparameter\u001b[0m\u001b[1;33m,\u001b[0m \u001b[0mvalue\u001b[0m\u001b[1;33m)\u001b[0m\u001b[1;33m\u001b[0m\u001b[1;33m\u001b[0m\u001b[0m\n\u001b[0m\u001b[0;32m    112\u001b[0m     \u001b[1;32mreturn\u001b[0m \u001b[0msetter_fcn\u001b[0m\u001b[1;33m\u001b[0m\u001b[1;33m\u001b[0m\u001b[0m\n\u001b[0;32m    113\u001b[0m \u001b[1;33m\u001b[0m\u001b[0m\n",
      "\u001b[1;32mc:\\projects\\python_mhs5200\\mhs5200\\MHS5200.py\u001b[0m in \u001b[0;36m_set\u001b[1;34m(self, channel, prop, value)\u001b[0m\n\u001b[0;32m     99\u001b[0m         \"\"\"\n\u001b[0;32m    100\u001b[0m         \u001b[0mcmd_str\u001b[0m \u001b[1;33m=\u001b[0m \u001b[1;34m\"s{}{}{}\"\u001b[0m\u001b[1;33m.\u001b[0m\u001b[0mformat\u001b[0m\u001b[1;33m(\u001b[0m\u001b[0mchannel\u001b[0m\u001b[1;33m,\u001b[0m \u001b[0mcmd_map\u001b[0m\u001b[1;33m[\u001b[0m\u001b[0mprop\u001b[0m\u001b[1;33m]\u001b[0m\u001b[1;33m,\u001b[0m \u001b[0mvalue\u001b[0m\u001b[1;33m)\u001b[0m\u001b[1;33m\u001b[0m\u001b[1;33m\u001b[0m\u001b[0m\n\u001b[1;32m--> 101\u001b[1;33m         \u001b[0mresponse\u001b[0m \u001b[1;33m=\u001b[0m \u001b[0mself\u001b[0m\u001b[1;33m.\u001b[0m\u001b[0msend\u001b[0m\u001b[1;33m(\u001b[0m\u001b[0mcmd_str\u001b[0m\u001b[1;33m,\u001b[0m \u001b[0mreturn_line\u001b[0m\u001b[1;33m=\u001b[0m\u001b[1;32mTrue\u001b[0m\u001b[1;33m)\u001b[0m\u001b[1;33m\u001b[0m\u001b[1;33m\u001b[0m\u001b[0m\n\u001b[0m\u001b[0;32m    102\u001b[0m         \u001b[1;32massert\u001b[0m\u001b[1;33m(\u001b[0m\u001b[0mresponse\u001b[0m \u001b[1;33m==\u001b[0m \u001b[1;34m\"ok\"\u001b[0m\u001b[1;33m)\u001b[0m\u001b[1;33m\u001b[0m\u001b[1;33m\u001b[0m\u001b[0m\n\u001b[0;32m    103\u001b[0m \u001b[1;33m\u001b[0m\u001b[0m\n",
      "\u001b[1;32mc:\\projects\\python_mhs5200\\mhs5200\\MHS5200.py\u001b[0m in \u001b[0;36msend\u001b[1;34m(self, msg, return_line)\u001b[0m\n\u001b[0;32m     81\u001b[0m         \u001b[1;32mif\u001b[0m \u001b[0mreturn_line\u001b[0m\u001b[1;33m:\u001b[0m\u001b[1;33m\u001b[0m\u001b[1;33m\u001b[0m\u001b[0m\n\u001b[0;32m     82\u001b[0m             \u001b[1;31m# Read the line.\u001b[0m\u001b[1;33m\u001b[0m\u001b[1;33m\u001b[0m\u001b[1;33m\u001b[0m\u001b[0m\n\u001b[1;32m---> 83\u001b[1;33m             \u001b[0mdata\u001b[0m \u001b[1;33m=\u001b[0m \u001b[0mself\u001b[0m\u001b[1;33m.\u001b[0m\u001b[0mserial\u001b[0m\u001b[1;33m.\u001b[0m\u001b[0mreadline\u001b[0m\u001b[1;33m(\u001b[0m\u001b[1;33m)\u001b[0m\u001b[1;33m\u001b[0m\u001b[1;33m\u001b[0m\u001b[0m\n\u001b[0m\u001b[0;32m     84\u001b[0m             \u001b[1;31m# Decode and strip the CRLF.\u001b[0m\u001b[1;33m\u001b[0m\u001b[1;33m\u001b[0m\u001b[1;33m\u001b[0m\u001b[0m\n\u001b[0;32m     85\u001b[0m             \u001b[0mdata_clean\u001b[0m \u001b[1;33m=\u001b[0m \u001b[0mdata\u001b[0m\u001b[1;33m.\u001b[0m\u001b[0mdecode\u001b[0m\u001b[1;33m(\u001b[0m\u001b[1;33m)\u001b[0m\u001b[1;33m.\u001b[0m\u001b[0mstrip\u001b[0m\u001b[1;33m(\u001b[0m\u001b[1;33m)\u001b[0m\u001b[1;33m\u001b[0m\u001b[1;33m\u001b[0m\u001b[0m\n",
      "\u001b[1;32mC:\\projects\\WPy-3670-2\\python-3.6.7.amd64\\lib\\site-packages\\serial\\serialwin32.py\u001b[0m in \u001b[0;36mread\u001b[1;34m(self, size)\u001b[0m\n\u001b[0;32m    271\u001b[0m             \u001b[0mcomstat\u001b[0m \u001b[1;33m=\u001b[0m \u001b[0mwin32\u001b[0m\u001b[1;33m.\u001b[0m\u001b[0mCOMSTAT\u001b[0m\u001b[1;33m(\u001b[0m\u001b[1;33m)\u001b[0m\u001b[1;33m\u001b[0m\u001b[1;33m\u001b[0m\u001b[0m\n\u001b[0;32m    272\u001b[0m             \u001b[1;32mif\u001b[0m \u001b[1;32mnot\u001b[0m \u001b[0mwin32\u001b[0m\u001b[1;33m.\u001b[0m\u001b[0mClearCommError\u001b[0m\u001b[1;33m(\u001b[0m\u001b[0mself\u001b[0m\u001b[1;33m.\u001b[0m\u001b[0m_port_handle\u001b[0m\u001b[1;33m,\u001b[0m \u001b[0mctypes\u001b[0m\u001b[1;33m.\u001b[0m\u001b[0mbyref\u001b[0m\u001b[1;33m(\u001b[0m\u001b[0mflags\u001b[0m\u001b[1;33m)\u001b[0m\u001b[1;33m,\u001b[0m \u001b[0mctypes\u001b[0m\u001b[1;33m.\u001b[0m\u001b[0mbyref\u001b[0m\u001b[1;33m(\u001b[0m\u001b[0mcomstat\u001b[0m\u001b[1;33m)\u001b[0m\u001b[1;33m)\u001b[0m\u001b[1;33m:\u001b[0m\u001b[1;33m\u001b[0m\u001b[1;33m\u001b[0m\u001b[0m\n\u001b[1;32m--> 273\u001b[1;33m                 \u001b[1;32mraise\u001b[0m \u001b[0mSerialException\u001b[0m\u001b[1;33m(\u001b[0m\u001b[1;34m\"ClearCommError failed ({!r})\"\u001b[0m\u001b[1;33m.\u001b[0m\u001b[0mformat\u001b[0m\u001b[1;33m(\u001b[0m\u001b[0mctypes\u001b[0m\u001b[1;33m.\u001b[0m\u001b[0mWinError\u001b[0m\u001b[1;33m(\u001b[0m\u001b[1;33m)\u001b[0m\u001b[1;33m)\u001b[0m\u001b[1;33m)\u001b[0m\u001b[1;33m\u001b[0m\u001b[1;33m\u001b[0m\u001b[0m\n\u001b[0m\u001b[0;32m    274\u001b[0m             \u001b[0mn\u001b[0m \u001b[1;33m=\u001b[0m \u001b[0mmin\u001b[0m\u001b[1;33m(\u001b[0m\u001b[0mcomstat\u001b[0m\u001b[1;33m.\u001b[0m\u001b[0mcbInQue\u001b[0m\u001b[1;33m,\u001b[0m \u001b[0msize\u001b[0m\u001b[1;33m)\u001b[0m \u001b[1;32mif\u001b[0m \u001b[0mself\u001b[0m\u001b[1;33m.\u001b[0m\u001b[0mtimeout\u001b[0m \u001b[1;33m==\u001b[0m \u001b[1;36m0\u001b[0m \u001b[1;32melse\u001b[0m \u001b[0msize\u001b[0m\u001b[1;33m\u001b[0m\u001b[1;33m\u001b[0m\u001b[0m\n\u001b[0;32m    275\u001b[0m             \u001b[1;32mif\u001b[0m \u001b[0mn\u001b[0m \u001b[1;33m>\u001b[0m \u001b[1;36m0\u001b[0m\u001b[1;33m:\u001b[0m\u001b[1;33m\u001b[0m\u001b[1;33m\u001b[0m\u001b[0m\n",
      "\u001b[1;31mSerialException\u001b[0m: ClearCommError failed (PermissionError(13, 'Access is denied.', None, 5))"
     ]
    }
   ],
   "source": [
    "df = pd.DataFrame()\n",
    "with mhs5200.MHS5200(signal_gen_port) as signal_gen:\n",
    "    with Scope(oscilloscope_port=oscilloscope_port) as scope:\n",
    "        for frequency in np.logspace(np.log10(100), np.log10(10000000), 50):\n",
    "            for amplitude in range(20):\n",
    "                print(f\"{frequency}:{amplitude}\")\n",
    "                result_df = test_frequency_amplitude3(frequency, amplitude, signal_gen=signal_gen, scope=scope)\n",
    "                df = df.append(result_df)\n",
    "                \n",
    "            pd.to_pickle(df, \"lab_log_data.pickle\")"
   ]
  },
  {
   "cell_type": "code",
   "execution_count": null,
   "metadata": {},
   "outputs": [],
   "source": [
    "data = scope.query_binary_values(\":WAVEFORM:DATA? CHAN2\")\n",
    "s"
   ]
  },
  {
   "cell_type": "code",
   "execution_count": null,
   "metadata": {},
   "outputs": [],
   "source": [
    "scope.query(\":ACQ:SAMP? CHANnel2\")"
   ]
  },
  {
   "cell_type": "code",
   "execution_count": null,
   "metadata": {},
   "outputs": [],
   "source": [
    "scope.query(\":ACQ:MEMD?\")"
   ]
  },
  {
   "cell_type": "code",
   "execution_count": null,
   "metadata": {},
   "outputs": [],
   "source": [
    "scope.write(\":ACQ:MEMD LONG\")"
   ]
  },
  {
   "cell_type": "code",
   "execution_count": null,
   "metadata": {},
   "outputs": [],
   "source": [
    "for depth in [\"NORMAL\", \"LONG\"]:\n",
    "    scope.write(f\":ACQ:MEMD {depth}\")\n",
    "    time.sleep(0.5)\n",
    "    assert depth == scope.query(\":ACQ:MEMD?\")"
   ]
  },
  {
   "cell_type": "code",
   "execution_count": null,
   "metadata": {},
   "outputs": [],
   "source": [
    "import matplotlib.pyplot as plt"
   ]
  },
  {
   "cell_type": "code",
   "execution_count": null,
   "metadata": {},
   "outputs": [],
   "source": [
    "data = scope.query_binary_values(\":WAVEFORM:DATA? CHAN1\", \"B\")\n",
    "plt.plot(data)"
   ]
  },
  {
   "cell_type": "code",
   "execution_count": null,
   "metadata": {},
   "outputs": [],
   "source": [
    "data = scope.query_binary_values(\":WAVEFORM:DATA? CHAN2\", \"B\")\n",
    "plt.plot(data)"
   ]
  },
  {
   "cell_type": "code",
   "execution_count": null,
   "metadata": {},
   "outputs": [],
   "source": [
    "scope.q"
   ]
  },
  {
   "cell_type": "code",
   "execution_count": null,
   "metadata": {},
   "outputs": [],
   "source": [
    "?scope.query_binary_values"
   ]
  },
  {
   "cell_type": "code",
   "execution_count": null,
   "metadata": {},
   "outputs": [],
   "source": [
    "scope.query(\":WAVEFORM:POINTS:MODE?\")"
   ]
  },
  {
   "cell_type": "code",
   "execution_count": null,
   "metadata": {},
   "outputs": [],
   "source": [
    "scope.write(\":WAVEFORM:DATA? CHANNEL1\")\n",
    "header = scope.read_raw()[:10]\n",
    "header"
   ]
  },
  {
   "cell_type": "code",
   "execution_count": null,
   "metadata": {},
   "outputs": [],
   "source": [
    "scope.write(\":WAVEFORM:DATA? CHANNEL1\")\n",
    "data = scope.read_raw()[10:]"
   ]
  },
  {
   "cell_type": "code",
   "execution_count": null,
   "metadata": {},
   "outputs": [],
   "source": [
    "data[0]"
   ]
  },
  {
   "cell_type": "code",
   "execution_count": null,
   "metadata": {},
   "outputs": [],
   "source": [
    "data[0:1]"
   ]
  },
  {
   "cell_type": "code",
   "execution_count": null,
   "metadata": {},
   "outputs": [],
   "source": [
    "data[0:2]"
   ]
  },
  {
   "cell_type": "code",
   "execution_count": null,
   "metadata": {},
   "outputs": [],
   "source": [
    "import numpy as np"
   ]
  },
  {
   "cell_type": "code",
   "execution_count": null,
   "metadata": {},
   "outputs": [],
   "source": [
    "np.array(56).tobytes()"
   ]
  },
  {
   "cell_type": "code",
   "execution_count": null,
   "metadata": {},
   "outputs": [],
   "source": [
    "np.array(56).tobytes(\"C\")"
   ]
  },
  {
   "cell_type": "code",
   "execution_count": null,
   "metadata": {},
   "outputs": [],
   "source": [
    "np.array(56).tobytes(\"F\")"
   ]
  },
  {
   "cell_type": "code",
   "execution_count": null,
   "metadata": {},
   "outputs": [],
   "source": []
  },
  {
   "cell_type": "code",
   "execution_count": null,
   "metadata": {},
   "outputs": [],
   "source": [
    "np.array(56.0).tobytes(\"F\")"
   ]
  },
  {
   "cell_type": "code",
   "execution_count": null,
   "metadata": {},
   "outputs": [],
   "source": [
    "np.frombuffer(np.array(56).tobytes(\"F\"))"
   ]
  },
  {
   "cell_type": "code",
   "execution_count": null,
   "metadata": {},
   "outputs": [],
   "source": [
    "dt = np.dtype(float)\n",
    "dt = dt.newbyteorder(\">\")\n",
    "plt.plot(np.frombuffer(data))"
   ]
  },
  {
   "cell_type": "code",
   "execution_count": null,
   "metadata": {},
   "outputs": [],
   "source": [
    "np.frombuffer(b'\\x01\\x02', dtype=np.uint8)"
   ]
  },
  {
   "cell_type": "code",
   "execution_count": null,
   "metadata": {},
   "outputs": [],
   "source": [
    "np.frombuffer(b'\\x01\\x02\\x03\\x04\\x05', dtype=np.uint8, count=3)"
   ]
  },
  {
   "cell_type": "code",
   "execution_count": null,
   "metadata": {},
   "outputs": [],
   "source": [
    "dt = np.dtype(float)\n",
    "dt = dt.newbyteorder(\"<\")\n",
    "plt.plot(np.frombuffer(data))"
   ]
  }
 ],
 "metadata": {
  "kernelspec": {
   "display_name": "Python 3",
   "language": "python",
   "name": "python3"
  },
  "language_info": {
   "codemirror_mode": {
    "name": "ipython",
    "version": 3
   },
   "file_extension": ".py",
   "mimetype": "text/x-python",
   "name": "python",
   "nbconvert_exporter": "python",
   "pygments_lexer": "ipython3",
   "version": "3.6.7"
  }
 },
 "nbformat": 4,
 "nbformat_minor": 2
}
