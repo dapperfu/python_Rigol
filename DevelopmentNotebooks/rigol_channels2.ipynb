{
 "cells": [
  {
   "cell_type": "code",
   "execution_count": 1,
   "metadata": {},
   "outputs": [],
   "source": [
    "import rigol\n",
    "import rigol.usbtmc\n",
    "import rigol.rigol"
   ]
  },
  {
   "cell_type": "code",
   "execution_count": 2,
   "metadata": {},
   "outputs": [],
   "source": [
    "import os"
   ]
  },
  {
   "cell_type": "code",
   "execution_count": 3,
   "metadata": {},
   "outputs": [],
   "source": [
    "assert os.path.exists(\"/dev/usbtmc0\")"
   ]
  },
  {
   "cell_type": "code",
   "execution_count": 4,
   "metadata": {},
   "outputs": [],
   "source": [
    "stat = os.stat(\"/dev/usbtmc0\")"
   ]
  },
  {
   "cell_type": "code",
   "execution_count": 5,
   "metadata": {},
   "outputs": [
    {
     "data": {
      "text/plain": [
       "Usbtmc</dev/usbtmc0>"
      ]
     },
     "execution_count": 5,
     "metadata": {},
     "output_type": "execute_result"
    }
   ],
   "source": [
    "device = rigol.usbtmc.Usbtmc()\n",
    "device"
   ]
  },
  {
   "cell_type": "code",
   "execution_count": 6,
   "metadata": {},
   "outputs": [
    {
     "ename": "AttributeError",
     "evalue": "'Usbtmc' object has no attribute 'dev_devicea'",
     "output_type": "error",
     "traceback": [
      "\u001b[0;31m---------------------------------------------------------------------------\u001b[0m",
      "\u001b[0;31mAttributeError\u001b[0m                            Traceback (most recent call last)",
      "\u001b[0;32m<ipython-input-6-b8da20815690>\u001b[0m in \u001b[0;36m<module>\u001b[0;34m\u001b[0m\n\u001b[0;32m----> 1\u001b[0;31m \u001b[0mdevice\u001b[0m\u001b[0;34m.\u001b[0m\u001b[0mname\u001b[0m\u001b[0;34m(\u001b[0m\u001b[0;34m)\u001b[0m\u001b[0;34m\u001b[0m\u001b[0;34m\u001b[0m\u001b[0m\n\u001b[0m",
      "\u001b[0;32m/projects/python_Rigol/rigol/usbtmc.py\u001b[0m in \u001b[0;36mname\u001b[0;34m(self)\u001b[0m\n\u001b[1;32m     54\u001b[0m             \u001b[0mRIGOL\u001b[0m \u001b[0mTECHNOLOGIES\u001b[0m\u001b[0;34m,\u001b[0m\u001b[0mDS1102E\u001b[0m\u001b[0;34m,\u001b[0m\u001b[0mDS1EB104702974\u001b[0m\u001b[0;34m,\u001b[0m\u001b[0;36m00.02\u001b[0m\u001b[0;36m.01\u001b[0m\u001b[0;36m.01\u001b[0m\u001b[0;36m.00\u001b[0m\u001b[0;34m\u001b[0m\u001b[0;34m\u001b[0m\u001b[0m\n\u001b[1;32m     55\u001b[0m         \"\"\"\n\u001b[0;32m---> 56\u001b[0;31m         \u001b[0mself\u001b[0m\u001b[0;34m.\u001b[0m\u001b[0mwrite\u001b[0m\u001b[0;34m(\u001b[0m\u001b[0;34m\"*IDN?\"\u001b[0m\u001b[0;34m)\u001b[0m\u001b[0;34m\u001b[0m\u001b[0;34m\u001b[0m\u001b[0m\n\u001b[0m\u001b[1;32m     57\u001b[0m         \u001b[0;32mreturn\u001b[0m \u001b[0mself\u001b[0m\u001b[0;34m.\u001b[0m\u001b[0mread\u001b[0m\u001b[0;34m(\u001b[0m\u001b[0;36m300\u001b[0m\u001b[0;34m)\u001b[0m\u001b[0;34m\u001b[0m\u001b[0;34m\u001b[0m\u001b[0m\n\u001b[1;32m     58\u001b[0m \u001b[0;34m\u001b[0m\u001b[0m\n",
      "\u001b[0;32m/projects/python_Rigol/rigol/usbtmc.py\u001b[0m in \u001b[0;36mwrite\u001b[0;34m(self, command, response)\u001b[0m\n\u001b[1;32m     34\u001b[0m         \u001b[0;32mif\u001b[0m \u001b[0misinstance\u001b[0m\u001b[0;34m(\u001b[0m\u001b[0mcommand\u001b[0m\u001b[0;34m,\u001b[0m \u001b[0mstr\u001b[0m\u001b[0;34m)\u001b[0m\u001b[0;34m:\u001b[0m\u001b[0;34m\u001b[0m\u001b[0;34m\u001b[0m\u001b[0m\n\u001b[1;32m     35\u001b[0m             \u001b[0mcommand\u001b[0m \u001b[0;34m=\u001b[0m \u001b[0mcommand\u001b[0m\u001b[0;34m.\u001b[0m\u001b[0mencode\u001b[0m\u001b[0;34m(\u001b[0m\u001b[0;34m)\u001b[0m\u001b[0;34m\u001b[0m\u001b[0;34m\u001b[0m\u001b[0m\n\u001b[0;32m---> 36\u001b[0;31m         \u001b[0mos\u001b[0m\u001b[0;34m.\u001b[0m\u001b[0mwrite\u001b[0m\u001b[0;34m(\u001b[0m\u001b[0mself\u001b[0m\u001b[0;34m.\u001b[0m\u001b[0m__file__\u001b[0m\u001b[0;34m,\u001b[0m \u001b[0mcommand\u001b[0m\u001b[0;34m)\u001b[0m\u001b[0;34m\u001b[0m\u001b[0;34m\u001b[0m\u001b[0m\n\u001b[0m\u001b[1;32m     37\u001b[0m         \u001b[0;32mif\u001b[0m \u001b[0mresponse\u001b[0m \u001b[0;32mis\u001b[0m \u001b[0;32mnot\u001b[0m \u001b[0;32mNone\u001b[0m\u001b[0;34m:\u001b[0m\u001b[0;34m\u001b[0m\u001b[0;34m\u001b[0m\u001b[0m\n\u001b[1;32m     38\u001b[0m             \u001b[0;32mreturn\u001b[0m \u001b[0mself\u001b[0m\u001b[0;34m.\u001b[0m\u001b[0mread\u001b[0m\u001b[0;34m(\u001b[0m\u001b[0mself\u001b[0m\u001b[0;34m.\u001b[0m\u001b[0mresponse\u001b[0m\u001b[0;34m)\u001b[0m\u001b[0;34m\u001b[0m\u001b[0;34m\u001b[0m\u001b[0m\n",
      "\u001b[0;32m/projects/python_Rigol/rigol/usbtmc.py\u001b[0m in \u001b[0;36m__file__\u001b[0;34m(self)\u001b[0m\n\u001b[1;32m     19\u001b[0m     \u001b[0;32mdef\u001b[0m \u001b[0m__file__\u001b[0m\u001b[0;34m(\u001b[0m\u001b[0mself\u001b[0m\u001b[0;34m)\u001b[0m\u001b[0;34m:\u001b[0m\u001b[0;34m\u001b[0m\u001b[0;34m\u001b[0m\u001b[0m\n\u001b[1;32m     20\u001b[0m         os_open_configuration = {\n\u001b[0;32m---> 21\u001b[0;31m             \u001b[0;34m\"path\"\u001b[0m\u001b[0;34m:\u001b[0m \u001b[0mself\u001b[0m\u001b[0;34m.\u001b[0m\u001b[0mdev_devicea\u001b[0m\u001b[0;34m,\u001b[0m\u001b[0;34m\u001b[0m\u001b[0;34m\u001b[0m\u001b[0m\n\u001b[0m\u001b[1;32m     22\u001b[0m             \u001b[0;34m\"flags\"\u001b[0m\u001b[0;34m:\u001b[0m \u001b[0mos\u001b[0m\u001b[0;34m.\u001b[0m\u001b[0mO_RDWR\u001b[0m \u001b[0;34m|\u001b[0m \u001b[0mos\u001b[0m\u001b[0;34m.\u001b[0m\u001b[0mO_DIRECT\u001b[0m \u001b[0;34m|\u001b[0m \u001b[0mos\u001b[0m\u001b[0;34m.\u001b[0m\u001b[0mO_SYNC\u001b[0m\u001b[0;34m,\u001b[0m\u001b[0;34m\u001b[0m\u001b[0;34m\u001b[0m\u001b[0m\n\u001b[1;32m     23\u001b[0m         }\n",
      "\u001b[0;31mAttributeError\u001b[0m: 'Usbtmc' object has no attribute 'dev_devicea'"
     ]
    }
   ],
   "source": [
    "device.name()"
   ]
  },
  {
   "cell_type": "code",
   "execution_count": 6,
   "metadata": {},
   "outputs": [],
   "source": [
    "device.reset()"
   ]
  },
  {
   "cell_type": "code",
   "execution_count": 7,
   "metadata": {},
   "outputs": [],
   "source": [
    "scope = rigol.rigol.RigolScope(device=device)"
   ]
  },
  {
   "cell_type": "code",
   "execution_count": 9,
   "metadata": {},
   "outputs": [
    {
     "data": {
      "text/plain": [
       "Usbtmc</dev/usbtmc0>"
      ]
     },
     "execution_count": 9,
     "metadata": {},
     "output_type": "execute_result"
    }
   ],
   "source": [
    "scope.device"
   ]
  },
  {
   "cell_type": "code",
   "execution_count": 10,
   "metadata": {},
   "outputs": [],
   "source": [
    "assert scope.vendor==\"Rigol Technologies\"\n",
    "assert scope.model==\"DS1052D\"\n",
    "assert scope.version==\"00.04.02.01.00\""
   ]
  },
  {
   "cell_type": "markdown",
   "metadata": {},
   "source": [
    "# Keys"
   ]
  },
  {
   "cell_type": "code",
   "execution_count": null,
   "metadata": {},
   "outputs": [],
   "source": [
    "ddimport"
   ]
  },
  {
   "cell_type": "code",
   "execution_count": 15,
   "metadata": {},
   "outputs": [],
   "source": [
    "with open(\"../Documentation/DS1000DE_Command_QuickReference.txt\", \"r\") as file:\n",
    "    DS1000DE_Command_QuickReference = file.read()"
   ]
  },
  {
   "cell_type": "code",
   "execution_count": 16,
   "metadata": {},
   "outputs": [],
   "source": [
    "import re"
   ]
  },
  {
   "cell_type": "code",
   "execution_count": 17,
   "metadata": {},
   "outputs": [],
   "source": [
    "subsystem_command_re = re.compile(\"(:[\\w<>]+:[\\w]+\\??)\")"
   ]
  },
  {
   "cell_type": "code",
   "execution_count": 22,
   "metadata": {},
   "outputs": [],
   "source": [
    "for match in subsystem_command_re.findall(DS1000DE_Command_QuickReference):\n",
    "    if match.startswith"
   ]
  },
  {
   "cell_type": "code",
   "execution_count": 40,
   "metadata": {},
   "outputs": [],
   "source": [
    "class CommandsFactory:\n",
    "    def __init__(self, *args, **kwargs):\n",
    "        if len(args)>0:\n",
    "            raise Exception(\"No.\")\n",
    "            \n",
    "        for key, value in kwargs.items():\n",
    "            setattr(self, key, value)\n",
    "    \n",
    "    def __str__(self):\n",
    "        return f\"{self.__class__.__name__.upper()}\"\n",
    "\n",
    "Subsystem=type(\"Subsystem\", (CommandsFactory, ), {})\n",
    "\n",
    "Key=type(\"Key\", (Subsystem, ), {})"
   ]
  },
  {
   "cell_type": "code",
   "execution_count": 41,
   "metadata": {},
   "outputs": [
    {
     "name": "stdout",
     "output_type": "stream",
     "text": [
      ":KEY:LOCK\n",
      ":KEY:RUN\n",
      ":KEY:AUTO\n",
      ":KEY:CHANnel1\n",
      ":KEY:CHANnel2\n",
      ":KEY:MATH\n",
      ":KEY:REF\n",
      ":KEY:F1\n",
      ":KEY:F2\n",
      ":KEY:F3\n",
      ":KEY:F4\n",
      ":KEY:F5\n",
      ":KEY:MNUoff\n",
      ":KEY:MEASure\n",
      ":KEY:CURSor\n",
      ":KEY:ACQuire\n",
      ":KEY:DISPlay\n",
      ":KEY:STORage\n",
      ":KEY:UTILity\n",
      ":KEY:MNUTIME\n",
      ":KEY:MNUTRIG\n",
      ":KEY:Trig\n",
      ":KEY:FORCe\n",
      ":KEY:V_POS_INC\n",
      ":KEY:V_POS_DEC\n",
      ":KEY:V_SCALE_INC\n",
      ":KEY:V_SCALE_DEC\n",
      ":KEY:H_SCALE_INC\n",
      ":KEY:H_SCALE_DEC\n",
      ":KEY:TRIG_LVL_INC\n",
      ":KEY:TRIG_LVL_DEC\n",
      ":KEY:H_POS_INC\n",
      ":KEY:H_POS_DEC\n",
      ":KEY:PROMPT_V\n",
      ":KEY:PROMPT_H\n",
      ":KEY:FUNCtion\n",
      ":KEY:LA\n",
      ":KEY:PROMPT_V_POS\n",
      ":KEY:PROMPT_H_POS\n",
      ":KEY:PROMPT_TRIG_LVL\n",
      ":KEY:OFF\n"
     ]
    }
   ],
   "source": [
    "key_subsystem_commands = list()\n",
    "for match in subsystem_command_re.findall(DS1000DE_Command_QuickReference):\n",
    "    if match.startswith(\":KEY\"):\n",
    "        key_subsystem_commands.append(match)\n",
    "        print(match)"
   ]
  },
  {
   "cell_type": "code",
   "execution_count": 35,
   "metadata": {},
   "outputs": [],
   "source": [
    "def key_factory(key_str:str, wait: int=0):\n",
    "    def press_key(self):\n",
    "        command_string = f\":{self}:{key_str}\"\n",
    "        print(command_string)\n",
    "        self.device.write(f\":{self}:{key_str}\")\n",
    "    return press_key\n",
    "                          \n",
    "                          \n",
    "def key_factory2(key_str:str, wait: int=0):\n",
    "    key_str = key_str.strip().strip(\":\").split(\":\")[-1].upper()\n",
    "    key_function = key_factory(key_str, wait)                   \n",
    "    return key_str.lower(), key_function"
   ]
  },
  {
   "cell_type": "code",
   "execution_count": 36,
   "metadata": {},
   "outputs": [
    {
     "data": {
      "text/plain": [
       "':WAVeform:POINts'"
      ]
     },
     "execution_count": 36,
     "metadata": {},
     "output_type": "execute_result"
    }
   ],
   "source": [
    "result = match\n",
    "result"
   ]
  },
  {
   "cell_type": "code",
   "execution_count": 42,
   "metadata": {},
   "outputs": [
    {
     "data": {
      "text/plain": [
       "<function __main__.key_factory.<locals>.press_key(self)>"
      ]
     },
     "execution_count": 42,
     "metadata": {},
     "output_type": "execute_result"
    }
   ],
   "source": [
    "key_factory(result)"
   ]
  },
  {
   "cell_type": "code",
   "execution_count": 44,
   "metadata": {},
   "outputs": [],
   "source": [
    "key=Key(device=device)"
   ]
  },
  {
   "cell_type": "code",
   "execution_count": 45,
   "metadata": {},
   "outputs": [
    {
     "name": "stdout",
     "output_type": "stream",
     "text": [
      ":KEY::WAVeform:POINts\n"
     ]
    }
   ],
   "source": [
    "key_factory(result)(key)"
   ]
  },
  {
   "cell_type": "code",
   "execution_count": 46,
   "metadata": {},
   "outputs": [
    {
     "data": {
      "text/plain": [
       "('points', <function __main__.key_factory.<locals>.press_key(self)>)"
      ]
     },
     "execution_count": 46,
     "metadata": {},
     "output_type": "execute_result"
    }
   ],
   "source": [
    "key_factory2(result)"
   ]
  },
  {
   "cell_type": "code",
   "execution_count": 47,
   "metadata": {},
   "outputs": [],
   "source": [
    "key_str, key_function = key_factory2(result)"
   ]
  },
  {
   "cell_type": "code",
   "execution_count": 48,
   "metadata": {},
   "outputs": [
    {
     "data": {
      "text/plain": [
       "'points'"
      ]
     },
     "execution_count": 48,
     "metadata": {},
     "output_type": "execute_result"
    }
   ],
   "source": [
    "key_str"
   ]
  },
  {
   "cell_type": "code",
   "execution_count": 49,
   "metadata": {},
   "outputs": [
    {
     "name": "stdout",
     "output_type": "stream",
     "text": [
      ":KEY:POINTS\n"
     ]
    }
   ],
   "source": [
    "key_function(key)"
   ]
  },
  {
   "cell_type": "code",
   "execution_count": 50,
   "metadata": {},
   "outputs": [],
   "source": [
    "setattr(Key, key_str, key_function)"
   ]
  },
  {
   "cell_type": "code",
   "execution_count": 52,
   "metadata": {},
   "outputs": [],
   "source": [
    "command_re = re.compile(\"(:KEY:[\\w]+)\")\n",
    "subsystem_commands=dict()\n",
    "for result in command_re.findall(DS1000DE_Command_QuickReference):\n",
    "    if result.startswith(\":KEY\"):\n",
    "        key_str, key_function = key_factory2(result)\n",
    "        subsystem_commands[key_str] = key_function"
   ]
  },
  {
   "cell_type": "code",
   "execution_count": 53,
   "metadata": {},
   "outputs": [],
   "source": [
    "Key=type(\"Key\", (Subsystem, ), subsystem_commands)"
   ]
  },
  {
   "cell_type": "code",
   "execution_count": 54,
   "metadata": {},
   "outputs": [],
   "source": [
    "key=Key(device=device)"
   ]
  },
  {
   "cell_type": "code",
   "execution_count": 55,
   "metadata": {},
   "outputs": [
    {
     "data": {
      "text/plain": [
       "<bound method key_factory.<locals>.press_key of <__main__.Key object at 0x6f771f70>>"
      ]
     },
     "execution_count": 55,
     "metadata": {},
     "output_type": "execute_result"
    }
   ],
   "source": [
    "key.auto"
   ]
  },
  {
   "cell_type": "code",
   "execution_count": 56,
   "metadata": {},
   "outputs": [
    {
     "name": "stdout",
     "output_type": "stream",
     "text": [
      ":KEY:AUTO\n"
     ]
    }
   ],
   "source": [
    "key.auto()"
   ]
  },
  {
   "cell_type": "code",
   "execution_count": 57,
   "metadata": {},
   "outputs": [
    {
     "name": "stdout",
     "output_type": "stream",
     "text": [
      ":KEY:AUTO\n"
     ]
    }
   ],
   "source": [
    "key.auto()"
   ]
  },
  {
   "cell_type": "code",
   "execution_count": 58,
   "metadata": {},
   "outputs": [
    {
     "name": "stderr",
     "output_type": "stream",
     "text": [
      "/projects/python_Rigol/rigol/usbtmc.py:62: UserWarning: Resetting: Usbtmc</dev/usbtmc0>\n",
      "  warnings.warn(f\"Resetting: {self}\")\n"
     ]
    }
   ],
   "source": [
    "key.device.reset()"
   ]
  },
  {
   "cell_type": "code",
   "execution_count": 66,
   "metadata": {},
   "outputs": [
    {
     "name": "stdout",
     "output_type": "stream",
     "text": [
      ":KEY:CHANNEL1\n"
     ]
    }
   ],
   "source": [
    "key.channel1()"
   ]
  },
  {
   "cell_type": "code",
   "execution_count": 68,
   "metadata": {},
   "outputs": [
    {
     "name": "stdout",
     "output_type": "stream",
     "text": [
      ":KEY:MEASURE\n"
     ]
    }
   ],
   "source": [
    "key.measure()"
   ]
  },
  {
   "cell_type": "code",
   "execution_count": null,
   "metadata": {},
   "outputs": [],
   "source": []
  },
  {
   "cell_type": "code",
   "execution_count": null,
   "metadata": {},
   "outputs": [],
   "source": []
  }
 ],
 "metadata": {
  "kernelspec": {
   "display_name": "Python 3",
   "language": "python",
   "name": "python3"
  },
  "language_info": {
   "codemirror_mode": {
    "name": "ipython",
    "version": 3
   },
   "file_extension": ".py",
   "mimetype": "text/x-python",
   "name": "python",
   "nbconvert_exporter": "python",
   "pygments_lexer": "ipython3",
   "version": "3.7.3"
  }
 },
 "nbformat": 4,
 "nbformat_minor": 2
}
