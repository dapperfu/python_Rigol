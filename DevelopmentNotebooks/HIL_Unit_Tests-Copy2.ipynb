{
 "cells": [
  {
   "cell_type": "markdown",
   "metadata": {},
   "source": [
    "# Hard\n",
    "- Test Environment: Windows 10, py-visa, NI-VISA\n",
    "\n",
    "\n",
    "## TODO:\n",
    "\n",
    "Testing on more platforms:\n",
    "\n",
    "- x86, ubuntu-18.04.\n",
    "- raspberrypi4.\n",
    "- FreeBSD."
   ]
  },
  {
   "cell_type": "code",
   "execution_count": 1,
   "metadata": {},
   "outputs": [],
   "source": [
    "import time\n",
    "import mhs5200"
   ]
  },
  {
   "cell_type": "code",
   "execution_count": 5,
   "metadata": {},
   "outputs": [],
   "source": [
    "signal_gen.serial.close()"
   ]
  },
  {
   "cell_type": "code",
   "execution_count": 6,
   "metadata": {},
   "outputs": [],
   "source": [
    "oscilloscope_port = scope_port = 'USB0::0x1AB1::0x0588::DS1EU152500705::INSTR'"
   ]
  },
  {
   "cell_type": "code",
   "execution_count": null,
   "metadata": {},
   "outputs": [],
   "source": [
    "import mhs5200.Enums"
   ]
  },
  {
   "cell_type": "code",
   "execution_count": null,
   "metadata": {},
   "outputs": [],
   "source": [
    "mhs5200.Enums.SQUARE"
   ]
  },
  {
   "cell_type": "code",
   "execution_count": null,
   "metadata": {},
   "outputs": [],
   "source": [
    "channel.amplitude"
   ]
  },
  {
   "cell_type": "code",
   "execution_count": null,
   "metadata": {},
   "outputs": [],
   "source": [
    "with mhs5200.MHS5200(signal_gen_port) as signal_generator:\n",
    "    for channel in signal_generator.channels:\n",
    "        channel.amplitude=1\n",
    "        channel.duty_cycle=50\n",
    "        channel.frequency=1\n",
    "        channel.offset=0\n",
    "        channel.phase=0\n",
    "        channel.wave=mhs5200.Enums.SQUARE"
   ]
  },
  {
   "cell_type": "code",
   "execution_count": null,
   "metadata": {},
   "outputs": [],
   "source": [
    "import pyvisa\n",
    "rm = pyvisa.ResourceManager()\n",
    "rm.list_resources()\n",
    "\n",
    "scope = rm.open_resource(oscilloscope_port)"
   ]
  },
  {
   "cell_type": "code",
   "execution_count": null,
   "metadata": {},
   "outputs": [],
   "source": [
    "import uuid"
   ]
  },
  {
   "cell_type": "code",
   "execution_count": null,
   "metadata": {},
   "outputs": [],
   "source": [
    "df = pd.DataFrame()\n",
    "for frequency in np.logspace(np.log10(100), np.log10(1000000), 10):\n",
    "    for amplitude in [1, 5, 10, 20]:\n",
    "        result_df = test_frequency_amplitude2(frequency, amplitude, signal_gen=signal_gen, scope=scope)\n",
    "        df = df.append(result_df)"
   ]
  },
  {
   "cell_type": "code",
   "execution_count": null,
   "metadata": {},
   "outputs": [],
   "source": [
    "class Scope():\n",
    "    def __init__(self, *args, oscilloscope=None, oscilloscope_port=None):\n",
    "        if oscilloscope_port is not None:\n",
    "            self.resource = rm.open_resource(oscilloscope_port)\n",
    "        else:\n",
    "            self.resource = oscilloscope\n",
    "            \n",
    "        for fcn in [\"write\", \"query\", \"close\", \"query_ascii_values\"]:\n",
    "            setattr(self, fcn, getattr(self.resource, fcn))\n",
    "        \n",
    "    def __enter__(self):\n",
    "        return self\n",
    "    \n",
    "    def __exit__(self, type, value, tb):\n",
    "        t1=time.time()\n",
    "        try:\n",
    "            while True:\n",
    "                if time.time()>t1+5:\n",
    "                    break\n",
    "                self.close()\n",
    "                time.sleep(0.2)\n",
    "        except InvalidSession:\n",
    "            pass\n",
    "        except:\n",
    "            raise"
   ]
  },
  {
   "cell_type": "code",
   "execution_count": null,
   "metadata": {},
   "outputs": [],
   "source": [
    "scope = Scope(oscilloscope_port=oscilloscope_port)"
   ]
  },
  {
   "cell_type": "code",
   "execution_count": null,
   "metadata": {},
   "outputs": [],
   "source": [
    "scope = Scope(oscilloscope_port=oscilloscope_port)"
   ]
  },
  {
   "cell_type": "code",
   "execution_count": null,
   "metadata": {},
   "outputs": [],
   "source": [
    "scope.close()"
   ]
  },
  {
   "cell_type": "code",
   "execution_count": null,
   "metadata": {},
   "outputs": [],
   "source": [
    "import pandas as pd"
   ]
  },
  {
   "cell_type": "code",
   "execution_count": null,
   "metadata": {},
   "outputs": [],
   "source": [
    "def test_frequency_amplitude3(frequency, amplitude, signal_gen, scope):\n",
    "    for chan in signal_gen.channels:\n",
    "        chan.frequency=frequency\n",
    "        chan.amplitude=amplitude\n",
    "        chan.phase=0\n",
    "    \n",
    "    period = 1/float(frequency)\n",
    "    timescale=\"{:.20f}\".format(float(period/5))\n",
    "    # Configure scope\n",
    "    \n",
    "    scope.write(f\":MEASURE:TOTAL ON\")\n",
    "    scope.write(f\":TIMebase:SCALE {timescale}\")\n",
    "    for scope_channel in [1, 2]:\n",
    "        scope.write(f\":CHANNEL{scope_channel}:probe 1\")\n",
    "        scope.write(f\":CHANNEL{scope_channel}:scale {amplitude/5}\")\n",
    "        scope.write(f\":CHANNEL{scope_channel}:offset 0\")\n",
    "    # Configure signal generator\n",
    "    for chan in signal_gen.channels:\n",
    "        chan.frequency=frequency\n",
    "        chan.amplitude=amplitude\n",
    "        chan.offset = 0\n",
    "        chan.phase=0\n",
    "\n",
    "    df = dict()\n",
    "    df[\"uuid\"] = str(uuid.uuid4())\n",
    "    df[\"frequency\"] = frequency\n",
    "    df[\"amplitude\"] = amplitude\n",
    "    for source in [\"CHAN1\", \"CHAN2\"]:\n",
    "        scope.write(f\":MEASURE:SOURCE {source}\")\n",
    "        time.sleep(1)\n",
    "        for param in ['VPP',\n",
    "                        'VMAX',\n",
    "                        'VMIN',\n",
    "                        'VAMPlitude',\n",
    "                        'VTOP',\n",
    "                        'VBASe',\n",
    "                        'VAVerage',\n",
    "                        'VRMS',\n",
    "                        'OVERshoot',\n",
    "                        'PREShoot',\n",
    "                        'FREQuency',\n",
    "                        'RISetime',\n",
    "                        'FALLtime',\n",
    "                        'PERiod',\n",
    "                        'PWIDth',\n",
    "                        'NWIDth',\n",
    "                        'PDUTycycle',\n",
    "                        'NDUTycycle',\n",
    "                        'PDELay',\n",
    "                        'NDELay',\n",
    "                        'TOTal',\n",
    "                        'SOURce',]:\n",
    "            try:\n",
    "                measured = scope.query_ascii_values(f\":MEASURE:{param}?\")[0]\n",
    "            except:\n",
    "                measured = scope.query(f\":MEASURE:{param}?\")[0]\n",
    "\n",
    "            df[f\"{source}_{param}\"] = measured\n",
    "    return pd.DataFrame(df, index=[0])"
   ]
  },
  {
   "cell_type": "code",
   "execution_count": null,
   "metadata": {},
   "outputs": [],
   "source": []
  },
  {
   "cell_type": "code",
   "execution_count": null,
   "metadata": {},
   "outputs": [],
   "source": []
  },
  {
   "cell_type": "code",
   "execution_count": null,
   "metadata": {},
   "outputs": [],
   "source": [
    "df = pd.DataFrame()\n",
    "with mhs5200.MHS5200(signal_gen_port) as signal_gen:\n",
    "    with Scope(oscilloscope_port=oscilloscope_port) as scope:\n",
    "        for frequency in [1, 10, 100]:\n",
    "            for amplitude in [1, 10, 20]:\n",
    "                try:\n",
    "                result_df = test_frequency_amplitude3(frequency, amplitude, signal_gen=signal_gen, scope=scope)\n",
    "                df = df.append(result_df)"
   ]
  },
  {
   "cell_type": "code",
   "execution_count": null,
   "metadata": {},
   "outputs": [],
   "source": [
    "df = pd.DataFrame()\n",
    "signal_gen = mhs5200.MHS5200(signal_gen_port)\n",
    "scope=  Scope(oscilloscope_port=oscilloscope_port)\n",
    "for frequency in [1, 10, 100]:\n",
    "    for amplitude in [1, 10, 20]:\n",
    "        result_df = test_frequency_amplitude3(frequency, amplitude, signal_gen=signal_gen, scope=scope)\n",
    "        df = df.append(result_df)"
   ]
  },
  {
   "cell_type": "code",
   "execution_count": null,
   "metadata": {},
   "outputs": [],
   "source": []
  },
  {
   "cell_type": "code",
   "execution_count": null,
   "metadata": {},
   "outputs": [],
   "source": [
    "import seaborn as sns\n",
    "\n",
    "sns.set(\n",
    "    rc={\n",
    "        \"figure.figsize\": (11, 8.5),\n",
    "        \"figure.dpi\": 300,\n",
    "        \"figure.facecolor\": \"w\",\n",
    "        \"figure.edgecolor\": \"k\",\n",
    "    }\n",
    ")\n",
    "palette = (sns.color_palette(\"Paired\"))\n",
    "sns.palplot(palette)\n",
    "sns.set_palette(palette)"
   ]
  },
  {
   "cell_type": "code",
   "execution_count": null,
   "metadata": {},
   "outputs": [],
   "source": [
    "df.groupby([\"frequency\", \"amplitude\"]).agg(0\")"
   ]
  },
  {
   "cell_type": "code",
   "execution_count": null,
   "metadata": {},
   "outputs": [],
   "source": []
  },
  {
   "cell_type": "code",
   "execution_count": null,
   "metadata": {},
   "outputs": [],
   "source": []
  },
  {
   "cell_type": "code",
   "execution_count": null,
   "metadata": {},
   "outputs": [],
   "source": []
  },
  {
   "cell_type": "code",
   "execution_count": null,
   "metadata": {},
   "outputs": [],
   "source": [
    "data = scope.query_binary_values(\":WAVEFORM:DATA? CHAN1\")\n",
    "plt.plot(data)"
   ]
  },
  {
   "cell_type": "code",
   "execution_count": null,
   "metadata": {},
   "outputs": [],
   "source": []
  },
  {
   "cell_type": "code",
   "execution_count": null,
   "metadata": {},
   "outputs": [],
   "source": []
  },
  {
   "cell_type": "code",
   "execution_count": null,
   "metadata": {},
   "outputs": [],
   "source": [
    "data = scope.query_binary_values(\":WAVEFORM:DATA? CHAN2\")\n",
    "plt.plot(data)"
   ]
  },
  {
   "cell_type": "code",
   "execution_count": null,
   "metadata": {},
   "outputs": [],
   "source": [
    "scope.query(\":ACQ:SAMP? CHANnel2\")"
   ]
  },
  {
   "cell_type": "code",
   "execution_count": null,
   "metadata": {},
   "outputs": [],
   "source": [
    "scope.query(\":ACQ:MEMD?\")"
   ]
  },
  {
   "cell_type": "code",
   "execution_count": null,
   "metadata": {},
   "outputs": [],
   "source": [
    "scope.write(\":ACQ:MEMD LONG\")"
   ]
  },
  {
   "cell_type": "code",
   "execution_count": null,
   "metadata": {},
   "outputs": [],
   "source": [
    "for depth in [\"NORMAL\", \"LONG\"]:\n",
    "    scope.write(f\":ACQ:MEMD {depth}\")\n",
    "    time.sleep(0.5)\n",
    "    assert depth == scope.query(\":ACQ:MEMD?\")"
   ]
  },
  {
   "cell_type": "code",
   "execution_count": null,
   "metadata": {},
   "outputs": [],
   "source": [
    "import matplotlib.pyplot as plt"
   ]
  },
  {
   "cell_type": "code",
   "execution_count": null,
   "metadata": {},
   "outputs": [],
   "source": [
    "data = scope.query_binary_values(\":WAVEFORM:DATA? CHAN1\", \"B\")\n",
    "plt.plot(data)"
   ]
  },
  {
   "cell_type": "code",
   "execution_count": null,
   "metadata": {},
   "outputs": [],
   "source": [
    "data = scope.query_binary_values(\":WAVEFORM:DATA? CHAN2\", \"B\")\n",
    "plt.plot(data)"
   ]
  },
  {
   "cell_type": "code",
   "execution_count": null,
   "metadata": {},
   "outputs": [],
   "source": [
    "scope.q"
   ]
  },
  {
   "cell_type": "code",
   "execution_count": null,
   "metadata": {},
   "outputs": [],
   "source": [
    "?scope.query_binary_values"
   ]
  },
  {
   "cell_type": "code",
   "execution_count": null,
   "metadata": {},
   "outputs": [],
   "source": [
    "scope.query(\":WAVEFORM:POINTS:MODE?\")"
   ]
  },
  {
   "cell_type": "code",
   "execution_count": null,
   "metadata": {},
   "outputs": [],
   "source": [
    "scope.write(\":WAVEFORM:DATA? CHANNEL1\")\n",
    "header = scope.read_raw()[:10]\n",
    "header"
   ]
  },
  {
   "cell_type": "code",
   "execution_count": null,
   "metadata": {},
   "outputs": [],
   "source": [
    "scope.write(\":WAVEFORM:DATA? CHANNEL1\")\n",
    "data = scope.read_raw()[10:]"
   ]
  },
  {
   "cell_type": "code",
   "execution_count": null,
   "metadata": {},
   "outputs": [],
   "source": [
    "data[0]"
   ]
  },
  {
   "cell_type": "code",
   "execution_count": null,
   "metadata": {},
   "outputs": [],
   "source": [
    "data[0:1]"
   ]
  },
  {
   "cell_type": "code",
   "execution_count": null,
   "metadata": {},
   "outputs": [],
   "source": [
    "data[0:2]"
   ]
  },
  {
   "cell_type": "code",
   "execution_count": null,
   "metadata": {},
   "outputs": [],
   "source": [
    "import numpy as np"
   ]
  },
  {
   "cell_type": "code",
   "execution_count": null,
   "metadata": {},
   "outputs": [],
   "source": [
    "np.array(56).tobytes()"
   ]
  },
  {
   "cell_type": "code",
   "execution_count": null,
   "metadata": {},
   "outputs": [],
   "source": [
    "np.array(56).tobytes(\"C\")"
   ]
  },
  {
   "cell_type": "code",
   "execution_count": null,
   "metadata": {},
   "outputs": [],
   "source": [
    "np.array(56).tobytes(\"F\")"
   ]
  },
  {
   "cell_type": "code",
   "execution_count": null,
   "metadata": {},
   "outputs": [],
   "source": []
  },
  {
   "cell_type": "code",
   "execution_count": null,
   "metadata": {},
   "outputs": [],
   "source": [
    "np.array(56.0).tobytes(\"F\")"
   ]
  },
  {
   "cell_type": "code",
   "execution_count": null,
   "metadata": {},
   "outputs": [],
   "source": [
    "np.frombuffer(np.array(56).tobytes(\"F\"))"
   ]
  },
  {
   "cell_type": "code",
   "execution_count": null,
   "metadata": {},
   "outputs": [],
   "source": [
    "dt = np.dtype(float)\n",
    "dt = dt.newbyteorder(\">\")\n",
    "plt.plot(np.frombuffer(data))"
   ]
  },
  {
   "cell_type": "code",
   "execution_count": null,
   "metadata": {},
   "outputs": [],
   "source": [
    "np.frombuffer(b'\\x01\\x02', dtype=np.uint8)"
   ]
  },
  {
   "cell_type": "code",
   "execution_count": null,
   "metadata": {},
   "outputs": [],
   "source": [
    "np.frombuffer(b'\\x01\\x02\\x03\\x04\\x05', dtype=np.uint8, count=3)"
   ]
  },
  {
   "cell_type": "code",
   "execution_count": null,
   "metadata": {},
   "outputs": [],
   "source": [
    "dt = np.dtype(float)\n",
    "dt = dt.newbyteorder(\"<\")\n",
    "plt.plot(np.frombuffer(data))"
   ]
  }
 ],
 "metadata": {
  "kernelspec": {
   "display_name": "Python 3",
   "language": "python",
   "name": "python3"
  },
  "language_info": {
   "codemirror_mode": {
    "name": "ipython",
    "version": 3
   },
   "file_extension": ".py",
   "mimetype": "text/x-python",
   "name": "python",
   "nbconvert_exporter": "python",
   "pygments_lexer": "ipython3",
   "version": "3.6.7"
  }
 },
 "nbformat": 4,
 "nbformat_minor": 2
}
