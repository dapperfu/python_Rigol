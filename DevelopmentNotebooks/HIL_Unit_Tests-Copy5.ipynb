{
 "cells": [
  {
   "cell_type": "markdown",
   "metadata": {},
   "source": [
    "# Hard\n",
    "- Test Environment: Ubuntu 18.04 x86 py-visa, NI-VISA\n",
    "\n",
    "\n",
    "## TODO:\n",
    "\n",
    "Testing on more platforms:\n",
    "\n",
    "- x86, ubuntu-18.04.\n",
    "- raspberrypi4.\n",
    "- FreeBSD."
   ]
  },
  {
   "cell_type": "code",
   "execution_count": 2,
   "metadata": {},
   "outputs": [],
   "source": [
    "import time\n",
    "import mhs5200"
   ]
  },
  {
   "cell_type": "code",
   "execution_count": 33,
   "metadata": {},
   "outputs": [],
   "source": [
    "import platform"
   ]
  },
  {
   "cell_type": "code",
   "execution_count": 40,
   "metadata": {},
   "outputs": [],
   "source": [
    "import os"
   ]
  },
  {
   "cell_type": "code",
   "execution_count": 41,
   "metadata": {},
   "outputs": [
    {
     "data": {
      "text/plain": [
       "'posix'"
      ]
     },
     "execution_count": 41,
     "metadata": {},
     "output_type": "execute_result"
    }
   ],
   "source": [
    "os.name"
   ]
  },
  {
   "cell_type": "code",
   "execution_count": 39,
   "metadata": {},
   "outputs": [
    {
     "data": {
      "text/plain": [
       "('', '', '', '')"
      ]
     },
     "execution_count": 39,
     "metadata": {},
     "output_type": "execute_result"
    }
   ],
   "source": [
    "platform.win32_ver()"
   ]
  },
  {
   "cell_type": "code",
   "execution_count": 23,
   "metadata": {},
   "outputs": [],
   "source": [
    "if os.name == \"posix\":\n",
    "    signal_gen_port = \"/dev/ttyUSB0\"\n",
    "    oscilloscope_port = scope_port = 'USB0::6833::1416::DS1EU152500705\\x00::0::INSTR'\n",
    "if os.name == \"nt\"\n",
    "    signal_gen_port = \"COM4\"\n",
    "    oscilloscope_port = scope_port = 'USB0::0x1AB1::0x0588::DS1EU152500705::INSTR'"
   ]
  },
  {
   "cell_type": "code",
   "execution_count": 24,
   "metadata": {},
   "outputs": [],
   "source": [
    "import mhs5200.enums"
   ]
  },
  {
   "cell_type": "code",
   "execution_count": 25,
   "metadata": {},
   "outputs": [],
   "source": [
    "with mhs5200.MHS5200(signal_gen_port) as signal_generator:\n",
    "    for channel in signal_generator.channels:\n",
    "        channel.amplitude=1\n",
    "        channel.duty_cycle=50\n",
    "        channel.frequency=1\n",
    "        channel.offset=0\n",
    "        channel.phase=0\n",
    "        channel.wave=mhs5200.enums.SQUARE"
   ]
  },
  {
   "cell_type": "code",
   "execution_count": 26,
   "metadata": {},
   "outputs": [
    {
     "name": "stderr",
     "output_type": "stream",
     "text": [
      "Found a device whose serial number cannot be read. The partial VISA resource name is: USB0::6833::1416::???::0::INSTR\n"
     ]
    },
    {
     "name": "stdout",
     "output_type": "stream",
     "text": [
      "('ASRL/dev/ttyS4::INSTR', 'ASRL/dev/ttyUSB0::INSTR')\n"
     ]
    }
   ],
   "source": [
    "import pyvisa\n",
    "rm = pyvisa.ResourceManager('@py')\n",
    "print(rm.list_resources())"
   ]
  },
  {
   "cell_type": "code",
   "execution_count": 29,
   "metadata": {},
   "outputs": [
    {
     "data": {
      "text/plain": [
       "('ASRL/dev/ttyS4::INSTR',\n",
       " 'ASRL/dev/ttyUSB0::INSTR',\n",
       " 'USB0::6833::1416::DS1EU152500705\\x00::0::INSTR')"
      ]
     },
     "execution_count": 29,
     "metadata": {},
     "output_type": "execute_result"
    }
   ],
   "source": [
    "rm = pyvisa.ResourceManager()\n",
    "rm.list_resources()"
   ]
  },
  {
   "cell_type": "code",
   "execution_count": 32,
   "metadata": {},
   "outputs": [
    {
     "data": {
      "text/plain": [
       "<'USBInstrument'('USB0::6833::1416::DS1EU152500705\\x00::0::INSTR')>"
      ]
     },
     "execution_count": 32,
     "metadata": {},
     "output_type": "execute_result"
    }
   ],
   "source": [
    "rm.open_resource('USB0::6833::1416::DS1EU152500705\\x00::0::INSTR')"
   ]
  },
  {
   "cell_type": "code",
   "execution_count": null,
   "metadata": {},
   "outputs": [],
   "source": [
    "import uuid"
   ]
  },
  {
   "cell_type": "code",
   "execution_count": null,
   "metadata": {},
   "outputs": [],
   "source": [
    "class Scope():\n",
    "    def __init__(self, *args, oscilloscope=None, oscilloscope_port=None):\n",
    "        if oscilloscope_port is not None:\n",
    "            self.resource = rm.open_resource(oscilloscope_port)\n",
    "        else:\n",
    "            self.resource = oscilloscope\n",
    "            \n",
    "        for fcn in [\"write\", \"query\", \"close\", \"query_ascii_values\"]:\n",
    "            setattr(self, fcn, getattr(self.resource, fcn))\n",
    "        \n",
    "    def __enter__(self):\n",
    "        return self\n",
    "    \n",
    "    def __exit__(self, type, value, tb):\n",
    "        t1=time.time()\n",
    "        try:\n",
    "            while True:\n",
    "                if time.time()>t1+5:\n",
    "                    break\n",
    "                self.close()\n",
    "                time.sleep(0.2)\n",
    "        except InvalidSession:\n",
    "            pass\n",
    "        except:\n",
    "            raise"
   ]
  },
  {
   "cell_type": "code",
   "execution_count": null,
   "metadata": {},
   "outputs": [],
   "source": [
    "scope = Scope(oscilloscope_port=oscilloscope_port)"
   ]
  },
  {
   "cell_type": "code",
   "execution_count": null,
   "metadata": {},
   "outputs": [],
   "source": [
    "scope = Scope(oscilloscope_port=oscilloscope_port)"
   ]
  },
  {
   "cell_type": "code",
   "execution_count": null,
   "metadata": {},
   "outputs": [],
   "source": [
    "scope.close()"
   ]
  },
  {
   "cell_type": "code",
   "execution_count": null,
   "metadata": {},
   "outputs": [],
   "source": [
    "import pandas as pd"
   ]
  },
  {
   "cell_type": "code",
   "execution_count": null,
   "metadata": {},
   "outputs": [],
   "source": [
    "def test_frequency_amplitude3(frequency, amplitude, signal_gen, scope):\n",
    "    for chan in signal_gen.channels:\n",
    "        chan.frequency=frequency\n",
    "        chan.amplitude=amplitude\n",
    "        chan.phase=0\n",
    "    \n",
    "    period = 1/float(frequency)\n",
    "    timescale=\"{:.20f}\".format(float(period/5))\n",
    "    # Configure scope\n",
    "    \n",
    "    scope.write(f\":MEASURE:TOTAL ON\")\n",
    "    scope.write(f\":TIMebase:SCALE {timescale}\")\n",
    "    for scope_channel in [1, 2]:\n",
    "        scope.write(f\":CHANNEL{scope_channel}:probe 1\")\n",
    "        scope.write(f\":CHANNEL{scope_channel}:scale {amplitude/5}\")\n",
    "        scope.write(f\":CHANNEL{scope_channel}:offset 0\")\n",
    "    # Configure signal generator\n",
    "    for chan in signal_gen.channels:\n",
    "        chan.frequency=frequency\n",
    "        chan.amplitude=amplitude\n",
    "        chan.offset = 0\n",
    "        chan.phase=0\n",
    "\n",
    "    df = dict()\n",
    "    df[\"uuid\"] = str(uuid.uuid4())\n",
    "    df[\"frequency\"] = frequency\n",
    "    df[\"amplitude\"] = amplitude\n",
    "    for source in [\"CHAN1\", \"CHAN2\"]:\n",
    "        scope.write(f\":MEASURE:SOURCE {source}\")\n",
    "        time.sleep(1)\n",
    "        for param in ['VPP',\n",
    "                        'VMAX',\n",
    "                        'VMIN',\n",
    "                        'VAMPlitude',\n",
    "                        'VTOP',\n",
    "                        'VBASe',\n",
    "                        'VAVerage',\n",
    "                        'VRMS',\n",
    "                        'OVERshoot',\n",
    "                        'PREShoot',\n",
    "                        'FREQuency',\n",
    "                        'RISetime',\n",
    "                        'FALLtime',\n",
    "                        'PERiod',\n",
    "                        'PWIDth',\n",
    "                        'NWIDth',\n",
    "                        'PDUTycycle',\n",
    "                        'NDUTycycle',\n",
    "                        'PDELay',\n",
    "                        'NDELay',\n",
    "                        'TOTal',\n",
    "                        'SOURce',]:\n",
    "            try:\n",
    "                measured = scope.query_ascii_values(f\":MEASURE:{param}?\")[0]\n",
    "            except:\n",
    "                measured = scope.query(f\":MEASURE:{param}?\")[0]\n",
    "\n",
    "            df[f\"{source}_{param}\"] = measured\n",
    "    return pd.DataFrame(df, index=[0])"
   ]
  },
  {
   "cell_type": "markdown",
   "metadata": {},
   "source": [
    "Loop through:\n",
    "\n",
    "$$f=[1,10,100]$$\n",
    "$$A=[1,10,20]$$\n",
    "\n",
    "10x times to create statistics."
   ]
  },
  {
   "cell_type": "code",
   "execution_count": null,
   "metadata": {},
   "outputs": [],
   "source": [
    "df = pd.DataFrame()\n",
    "with mhs5200.MHS5200(signal_gen_port) as signal_gen:\n",
    "    with Scope(oscilloscope_port=oscilloscope_port) as scope:\n",
    "        for _ in range(10):\n",
    "            for frequency in [1, 10, 100]:\n",
    "                for amplitude in [1, 10, 20]:\n",
    "                    result_df = test_frequency_amplitude3(frequency, amplitude, signal_gen=signal_gen, scope=scope)\n",
    "                    df = df.append(result_df)"
   ]
  },
  {
   "cell_type": "code",
   "execution_count": null,
   "metadata": {},
   "outputs": [],
   "source": [
    "df.groupby([\"frequency\", \"amplitude\"]).agg([\"mean\", \"median\", \"std\", \"var\"])"
   ]
  },
  {
   "cell_type": "code",
   "execution_count": null,
   "metadata": {},
   "outputs": [],
   "source": [
    "import numpy as np"
   ]
  },
  {
   "cell_type": "code",
   "execution_count": null,
   "metadata": {},
   "outputs": [],
   "source": [
    "df = pd.DataFrame()\n",
    "with mhs5200.MHS5200(signal_gen_port) as signal_gen:\n",
    "    with Scope(oscilloscope_port=oscilloscope_port) as scope:\n",
    "        for _ in range(2):\n",
    "            for frequency in np.logspace(np.log10(1000), np.log10(1000000), 2):\n",
    "                for amplitude in [20]:\n",
    "                    result_df = test_frequency_amplitude3(frequency, amplitude, signal_gen=signal_gen, scope=scope)\n",
    "                    df = df.append(result_df)"
   ]
  },
  {
   "cell_type": "code",
   "execution_count": null,
   "metadata": {},
   "outputs": [],
   "source": [
    "df.groupby([\"frequency\"])[\"CHAN1_FREQuency\"].agg([\"mean\", \"median\", \"std\", \"var\"])"
   ]
  },
  {
   "cell_type": "code",
   "execution_count": null,
   "metadata": {},
   "outputs": [],
   "source": [
    "df.groupby([\"frequency\", \"amplitude\"])[\"CHAN2_FREQuency\"].agg([\"mean\", \"median\", \"std\", \"var\"])"
   ]
  },
  {
   "cell_type": "code",
   "execution_count": null,
   "metadata": {},
   "outputs": [],
   "source": [
    "df = pd.DataFrame()\n",
    "with mhs5200.MHS5200(signal_gen_port) as signal_gen:\n",
    "    with Scope(oscilloscope_port=oscilloscope_port) as scope:\n",
    "        for _ in range(2):\n",
    "            for frequency in np.logspace(np.log10(1000000), np.log10(100000000), 10):\n",
    "                for amplitude in [20]:\n",
    "                    result_df = test_frequency_amplitude3(frequency, amplitude, signal_gen=signal_gen, scope=scope)\n",
    "                    df = df.append(result_df)\n",
    "df.groupby([\"frequency\"])[\"CHAN1_FREQuency\"].agg([\"mean\", \"median\", \"std\", \"var\"])"
   ]
  },
  {
   "cell_type": "code",
   "execution_count": null,
   "metadata": {},
   "outputs": [],
   "source": []
  }
 ],
 "metadata": {
  "kernelspec": {
   "display_name": "Python 3",
   "language": "python",
   "name": "python3"
  },
  "language_info": {
   "codemirror_mode": {
    "name": "ipython",
    "version": 3
   },
   "file_extension": ".py",
   "mimetype": "text/x-python",
   "name": "python",
   "nbconvert_exporter": "python",
   "pygments_lexer": "ipython3",
   "version": "3.8.0"
  }
 },
 "nbformat": 4,
 "nbformat_minor": 2
}
