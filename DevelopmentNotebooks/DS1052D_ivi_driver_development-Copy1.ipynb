{
 "cells": [
  {
   "cell_type": "code",
   "execution_count": 1,
   "metadata": {},
   "outputs": [],
   "source": [
    "from ivi.rigol.rigolBaseScope import *\n",
    "from ivi.rigol.rigolDSSource import *\n",
    "\n",
    "class rigolDS1000D(rigolBaseScope, rigolDSSource):\n",
    "    \"Rigol DS1000D series IVI oscilloscope driver\"\n",
    "\n",
    "    def __init__(self, *args, **kwargs):\n",
    "        self.__dict__.setdefault('_instrument_id', '')\n",
    "\n",
    "        super(rigolDS1000D, self).__init__(*args, **kwargs)\n",
    "\n",
    "        self._analog_channel_count = 4\n",
    "        self._digital_channel_count = 16\n",
    "        self._bandwidth = 100e6\n",
    "        self._bandwidth_limit = {'20M': 20e6}\n",
    "        self._max_averages = 1024\n",
    "\n",
    "        self._horizontal_divisions = 12\n",
    "        self._vertical_divisions = 8\n",
    "\n",
    "        # Internal source\n",
    "        self._output_count = 2\n",
    "\n",
    "        self._identity_description = \"Rigol DS1000D series IVI oscilloscope driver\"\n",
    "        self._identity_supported_instrument_models = ['DS1052D']\n",
    "\n",
    "        self._init_channels()\n",
    "        self._init_outputs()"
   ]
  },
  {
   "cell_type": "code",
   "execution_count": 2,
   "metadata": {},
   "outputs": [],
   "source": [
    "class rigolDS1052D(rigolDS1000D):\n",
    "    \"Rigol DS1052D IVI oscilloscope driver\"\n",
    "\n",
    "    def __init__(self, *args, **kwargs):\n",
    "        self.__dict__.setdefault('_instrument_id', 'DS1052D')\n",
    "\n",
    "        super(rigolDS1052D, self).__init__(*args, **kwargs)\n",
    "\n",
    "        self._analog_channel_count = 2\n",
    "        self._digital_channel_count = 10\n",
    "        self._channel_count = self._analog_channel_count + self._digital_channel_count\n",
    "        self._bandwidth = 10e6\n",
    "\n",
    "        self._init_channels()"
   ]
  },
  {
   "cell_type": "code",
   "execution_count": 3,
   "metadata": {},
   "outputs": [],
   "source": [
    "scope = rigolDS1052D(\"USB0::6833::1416::INSTR\")"
   ]
  },
  {
   "cell_type": "code",
   "execution_count": 6,
   "metadata": {},
   "outputs": [],
   "source": [
    "chan = scope.channels[0]"
   ]
  },
  {
   "cell_type": "code",
   "execution_count": 9,
   "metadata": {},
   "outputs": [],
   "source": [
    "chan.enabled=False"
   ]
  },
  {
   "cell_type": "code",
   "execution_count": 10,
   "metadata": {},
   "outputs": [],
   "source": [
    "chan.enabled=True"
   ]
  },
  {
   "cell_type": "code",
   "execution_count": 16,
   "metadata": {},
   "outputs": [
    {
     "data": {
      "text/plain": [
       "<ivi.ivi.PropertyCollection at 0x7ff35d40b640>"
      ]
     },
     "execution_count": 16,
     "metadata": {},
     "output_type": "execute_result"
    }
   ],
   "source": [
    "scope.trigger."
   ]
  },
  {
   "cell_type": "code",
   "execution_count": null,
   "metadata": {},
   "outputs": [],
   "source": []
  }
 ],
 "metadata": {
  "kernelspec": {
   "display_name": "Python 3",
   "language": "python",
   "name": "python3"
  },
  "language_info": {
   "codemirror_mode": {
    "name": "ipython",
    "version": 3
   },
   "file_extension": ".py",
   "mimetype": "text/x-python",
   "name": "python",
   "nbconvert_exporter": "python",
   "pygments_lexer": "ipython3",
   "version": "3.8.0"
  }
 },
 "nbformat": 4,
 "nbformat_minor": 2
}
