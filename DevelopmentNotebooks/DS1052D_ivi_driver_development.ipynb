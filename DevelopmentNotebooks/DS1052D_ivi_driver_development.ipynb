{
 "cells": [
  {
   "cell_type": "code",
   "execution_count": null,
   "metadata": {},
   "outputs": [],
   "source": [
    "import usbtmc"
   ]
  },
  {
   "cell_type": "code",
   "execution_count": null,
   "metadata": {},
   "outputs": [],
   "source": [
    "for device in usbtmc.list_devices():\n",
    "    break"
   ]
  },
  {
   "cell_type": "code",
   "execution_count": null,
   "metadata": {},
   "outputs": [],
   "source": [
    "assert device.idProduct == 1416"
   ]
  },
  {
   "cell_type": "code",
   "execution_count": null,
   "metadata": {},
   "outputs": [],
   "source": [
    "device.idVendor"
   ]
  },
  {
   "cell_type": "code",
   "execution_count": null,
   "metadata": {},
   "outputs": [],
   "source": [
    "assert device.idVendor == 6833"
   ]
  },
  {
   "cell_type": "code",
   "execution_count": null,
   "metadata": {},
   "outputs": [],
   "source": [
    "device.write?"
   ]
  },
  {
   "cell_type": "code",
   "execution_count": null,
   "metadata": {},
   "outputs": [],
   "source": [
    "device.port_number"
   ]
  },
  {
   "cell_type": "code",
   "execution_count": null,
   "metadata": {},
   "outputs": [],
   "source": [
    "device.port_numbers"
   ]
  },
  {
   "cell_type": "code",
   "execution_count": null,
   "metadata": {},
   "outputs": [],
   "source": [
    "device.detach_kernel_driver?"
   ]
  },
  {
   "cell_type": "code",
   "execution_count": null,
   "metadata": {},
   "outputs": [],
   "source": [
    "import ivi"
   ]
  },
  {
   "cell_type": "code",
   "execution_count": null,
   "metadata": {},
   "outputs": [],
   "source": [
    "import ivi.rigol"
   ]
  },
  {
   "cell_type": "code",
   "execution_count": null,
   "metadata": {},
   "outputs": [],
   "source": [
    "ivi.scope"
   ]
  },
  {
   "cell_type": "code",
   "execution_count": null,
   "metadata": {},
   "outputs": [],
   "source": [
    "from ivi.rigol.rigolBaseScope import *\n",
    "from ivi.rigol.rigolDSSource import *\n",
    "\n",
    "class rigolDS1000D(rigolBaseScope, rigolDSSource):\n",
    "    \"Rigol DS1000D series IVI oscilloscope driver\"\n",
    "\n",
    "    def __init__(self, *args, **kwargs):\n",
    "        self.__dict__.setdefault('_instrument_id', '')\n",
    "\n",
    "        super(rigolDS1000D, self).__init__(*args, **kwargs)\n",
    "\n",
    "        self._analog_channel_count = 4\n",
    "        self._digital_channel_count = 16\n",
    "        self._bandwidth = 100e6\n",
    "        self._bandwidth_limit = {'20M': 20e6}\n",
    "        self._max_averages = 1024\n",
    "\n",
    "        self._horizontal_divisions = 12\n",
    "        self._vertical_divisions = 8\n",
    "\n",
    "        # Internal source\n",
    "        self._output_count = 2\n",
    "\n",
    "        self._identity_description = \"Rigol DS1000D series IVI oscilloscope driver\"\n",
    "        self._identity_supported_instrument_models = ['DS1052D']\n",
    "\n",
    "        self._init_channels()\n",
    "        self._init_outputs()"
   ]
  },
  {
   "cell_type": "code",
   "execution_count": null,
   "metadata": {},
   "outputs": [],
   "source": [
    "class rigolDS1052D(rigolDS1000D):\n",
    "    \"Rigol DS1052D IVI oscilloscope driver\"\n",
    "\n",
    "    def __init__(self, *args, **kwargs):\n",
    "        self.__dict__.setdefault('_instrument_id', 'DS1052D')\n",
    "\n",
    "        super(rigolDS1052D, self).__init__(*args, **kwargs)\n",
    "\n",
    "        self._analog_channel_count = 2\n",
    "        self._digital_channel_count = 10\n",
    "        self._channel_count = self._analog_channel_count + self._digital_channel_count\n",
    "        self._bandwidth = 10e6\n",
    "\n",
    "        self._init_channels()"
   ]
  },
  {
   "cell_type": "code",
   "execution_count": null,
   "metadata": {},
   "outputs": [],
   "source": [
    "scope = rigolDS1052D(\"USB0::1416::6833::INSTR\")"
   ]
  },
  {
   "cell_type": "code",
   "execution_count": null,
   "metadata": {},
   "outputs": [],
   "source": [
    "scope = rigolDS1052D(\"USB0::6833::1416::INSTR\")"
   ]
  },
  {
   "cell_type": "code",
   "execution_count": null,
   "metadata": {},
   "outputs": [],
   "source": [
    "import usb.core\n",
    "import usb.util\n",
    "dev = usb.core.find(idVendor=6833, idProduct=1416)"
   ]
  },
  {
   "cell_type": "code",
   "execution_count": null,
   "metadata": {},
   "outputs": [],
   "source": [
    "dev"
   ]
  },
  {
   "cell_type": "code",
   "execution_count": null,
   "metadata": {},
   "outputs": [],
   "source": [
    "dev.reset()"
   ]
  },
  {
   "cell_type": "code",
   "execution_count": null,
   "metadata": {},
   "outputs": [],
   "source": []
  }
 ],
 "metadata": {
  "kernelspec": {
   "display_name": "Python 3",
   "language": "python",
   "name": "python3"
  },
  "language_info": {
   "codemirror_mode": {
    "name": "ipython",
    "version": 3
   },
   "file_extension": ".py",
   "mimetype": "text/x-python",
   "name": "python",
   "nbconvert_exporter": "python",
   "pygments_lexer": "ipython3",
   "version": "3.8.0"
  }
 },
 "nbformat": 4,
 "nbformat_minor": 2
}
