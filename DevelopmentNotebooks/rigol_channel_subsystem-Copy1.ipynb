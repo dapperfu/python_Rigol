{
 "cells": [
  {
   "cell_type": "code",
   "execution_count": null,
   "metadata": {},
   "outputs": [],
   "source": [
    "import os\n",
    "import warnings\n",
    "\n",
    "class Usbtmc:\n",
    "    \"\"\"Simple implementation of a USBTMC device driver.\n",
    "    \n",
    "    >> The USBTMC (USB Test and Measurement Class) and USBTMC-USB488 are two related USB (Universal Serial Bus) class specifications. They were officially adopted on December 22, 2002. The purpose of USBTMC is to describe the requirements for test-and-measurement devices with a USB interface. USBTMC defines the protocol for exchanging messages between hosts and devices.\n",
    "      \n",
    "    https://www.eetimes.com/usbtmc-unwrapped/#\n",
    "    \"\"\" \n",
    "    def __init__(self, device: [str]=\"/dev/usbtmc0\"):\n",
    "        self.device = device\n",
    "        self.channels = list()\n",
    "        self.reset()\n",
    "\n",
    "    @property\n",
    "    def __file__(self):\n",
    "        os_open_configuration = {\n",
    "            \"path\": self.device,\n",
    "            \"flags\": os.O_RDWR | os.O_DIRECT | os.O_SYNC \n",
    "        }\n",
    "        __file = os.open(\n",
    "            self.device,\n",
    "            os.O_RDWR\n",
    "        )\n",
    "        return __file\n",
    "        # TODO: Test that the__file__ opened\n",
    " \n",
    "    def write(self, command: [bytes, str], response=None):\n",
    "        \"\"\"write a string to the usbtmc device.\n",
    "        \n",
    "        Example:\n",
    "        \n",
    "        \"\"\"\n",
    "        if isinstance(command, str):\n",
    "            command = command.encode()\n",
    "        os.write(self.__file__, command);\n",
    "        if response is not None:\n",
    "            return self.read(self.response)\n",
    " \n",
    "    def read(self, length = 1024):\n",
    "        return os.read(self.__file__, length).decode()\n",
    " \n",
    "    def name(self):\n",
    "        \"\"\"# *IDN?\n",
    "        Command Format:\n",
    "            *IDN?\n",
    "        Function Explanation:\n",
    "            The command queries the ID character string of the instrument, including a field\n",
    "            separated by 4 commas: manufactory, model, serial number and the version\n",
    "            number composed of numbers and separated by “.” .\n",
    "        Returned Format:\n",
    "            RIGOL TECHNOLOGIES,<model>,<serial number>, <software version>.\n",
    "        Example:\n",
    "            RIGOL TECHNOLOGIES,DS1102E,DS1EB104702974,00.02.01.01.00\n",
    "        \"\"\"\n",
    "        self.write(\"*IDN?\")\n",
    "        return self.read(300)\n",
    " \n",
    "    def reset(self):\n",
    "        \"\"\"The command resets the system parameters.\"\"\"\n",
    "        warnings.warn(f\"Resetting: {self.name()}\")\n",
    "        self.write(\"*RST\")\n",
    "        \n",
    " \n",
    "    def __repr__(self):\n",
    "        return f\"{self.__class__.__name__}<{self.device}>\"\n",
    "    \n",
    "    def __enter__(self):\n",
    "        print(\"in __enter__\")\n",
    "        return self\n",
    "    def __exit__(self, exception_type, exception_value, traceback):\n",
    "        print(\"in __exit__\")       "
   ]
  },
  {
   "cell_type": "code",
   "execution_count": 2,
   "metadata": {},
   "outputs": [
    {
     "name": "stderr",
     "output_type": "stream",
     "text": [
      "/tmp/venvs/python_mhs5200/lib/python3.7/site-packages/ipykernel_launcher.py:62: UserWarning: Resetting: Rigol Technologies,DS1052D,DS1EU152500705,00.04.02.01.00\n"
     ]
    },
    {
     "data": {
      "text/plain": [
       "Usbtmc</dev/usbtmc0>"
      ]
     },
     "execution_count": 2,
     "metadata": {},
     "output_type": "execute_result"
    }
   ],
   "source": [
    "device = Usbtmc()\n",
    "device"
   ]
  },
  {
   "cell_type": "code",
   "execution_count": 3,
   "metadata": {},
   "outputs": [
    {
     "data": {
      "text/plain": [
       "'Rigol Technologies,DS1052D,DS1EU152500705,00.04.02.01.00'"
      ]
     },
     "execution_count": 3,
     "metadata": {},
     "output_type": "execute_result"
    }
   ],
   "source": [
    "device.name()"
   ]
  },
  {
   "cell_type": "code",
   "execution_count": 4,
   "metadata": {},
   "outputs": [
    {
     "name": "stderr",
     "output_type": "stream",
     "text": [
      "/tmp/venvs/python_mhs5200/lib/python3.7/site-packages/ipykernel_launcher.py:62: UserWarning: Resetting: Rigol Technologies,DS1052D,DS1EU152500705,00.04.02.01.00\n"
     ]
    }
   ],
   "source": [
    "device.reset()"
   ]
  },
  {
   "cell_type": "code",
   "execution_count": 5,
   "metadata": {},
   "outputs": [
    {
     "name": "stderr",
     "output_type": "stream",
     "text": [
      "/tmp/venvs/python_mhs5200/lib/python3.7/site-packages/ipykernel_launcher.py:62: UserWarning: Resetting: Rigol Technologies,DS1052D,DS1EU152500705,00.04.02.01.00\n"
     ]
    },
    {
     "data": {
      "text/plain": [
       "RigolScope<DS1052D>"
      ]
     },
     "execution_count": 5,
     "metadata": {},
     "output_type": "execute_result"
    }
   ],
   "source": [
    "from cached_property import cached_property\n",
    "class RigolScope:\n",
    "    \"\"\"Class to control a Rigol DS1000 series oscilloscope\"\"\"\n",
    "    def __init__(self, *args, device: [Usbtmc, str]=\"/dev/usbtmc0\"):\n",
    "        if len(args)>0:\n",
    "            raise Exception(\"No.\")\n",
    "        if isinstance(device, str):\n",
    "            device = Usbtmc(device)\n",
    "        self.device = device\n",
    " \n",
    "    def write(self, command):\n",
    "        \"\"\"Send an arbitrary command directly to the scope\"\"\"\n",
    "        self.device.write(command)\n",
    " \n",
    "    def read(self, command):\n",
    "        \"\"\"Read an arbitrary amount of data directly from the scope\"\"\"\n",
    "        return self.device.read(command)\n",
    " \n",
    "    def reset(self):\n",
    "        \"\"\"Reset the instrument\"\"\"\n",
    "        self.device.reset()\n",
    "        \n",
    "    @cached_property\n",
    "    def __idn__(self):\n",
    "        return self.device.name()\n",
    "    \n",
    "    @property\n",
    "    def model(self):\n",
    "        return self.__idn__.split(\",\")[1]\n",
    "    \n",
    "    @property\n",
    "    def vendor(self):\n",
    "        return self.__idn__.split(\",\")[0]\n",
    "    \n",
    "    @property\n",
    "    def serial(self):\n",
    "        return self.__idn__.split(\",\")[2]\n",
    "    \n",
    "    @property\n",
    "    def version(self):\n",
    "        return self.__idn__.split(\",\")[3]\n",
    "    \n",
    "    def __repr__(self):\n",
    "        return f\"{self.__class__.__name__}<{self.model}>\"\n",
    "    \n",
    "    def __enter__(self):\n",
    "        print(\"in __enter__\")\n",
    "        return self\n",
    "    def __exit__(self, exception_type, exception_value, traceback):\n",
    "        print(\"in __exit__\")\n",
    "\n",
    "r = RigolScope()\n",
    "r"
   ]
  },
  {
   "cell_type": "code",
   "execution_count": 6,
   "metadata": {},
   "outputs": [],
   "source": [
    "device = r.device"
   ]
  },
  {
   "cell_type": "code",
   "execution_count": 7,
   "metadata": {},
   "outputs": [],
   "source": [
    "self = scope = r"
   ]
  },
  {
   "cell_type": "code",
   "execution_count": 8,
   "metadata": {},
   "outputs": [
    {
     "data": {
      "text/plain": [
       "Usbtmc</dev/usbtmc0>"
      ]
     },
     "execution_count": 8,
     "metadata": {},
     "output_type": "execute_result"
    }
   ],
   "source": [
    "scope.device"
   ]
  },
  {
   "cell_type": "code",
   "execution_count": 9,
   "metadata": {},
   "outputs": [],
   "source": [
    "assert scope.vendor==\"Rigol Technologies\"\n",
    "assert scope.model==\"DS1052D\"\n",
    "assert scope.version==\"00.04.02.01.00\""
   ]
  },
  {
   "cell_type": "code",
   "execution_count": null,
   "metadata": {},
   "outputs": [],
   "source": [
    "imp"
   ]
  },
  {
   "cell_type": "code",
   "execution_count": 10,
   "metadata": {},
   "outputs": [
    {
     "ename": "NameError",
     "evalue": "name 're' is not defined",
     "output_type": "error",
     "traceback": [
      "\u001b[0;31m---------------------------------------------------------------------------\u001b[0m",
      "\u001b[0;31mNameError\u001b[0m                                 Traceback (most recent call last)",
      "\u001b[0;32m<ipython-input-10-8840efab2513>\u001b[0m in \u001b[0;36m<module>\u001b[0;34m\u001b[0m\n\u001b[1;32m      1\u001b[0m \u001b[0;32mwith\u001b[0m \u001b[0mopen\u001b[0m\u001b[0;34m(\u001b[0m\u001b[0;34m\"../python_Rigol/DS1000DE_ProgrammingGuide_EN.txt\"\u001b[0m\u001b[0;34m,\u001b[0m \u001b[0;34m\"r\"\u001b[0m\u001b[0;34m)\u001b[0m \u001b[0;32mas\u001b[0m \u001b[0mfile\u001b[0m\u001b[0;34m:\u001b[0m\u001b[0;34m\u001b[0m\u001b[0;34m\u001b[0m\u001b[0m\n\u001b[1;32m      2\u001b[0m     \u001b[0mDS1000DE_ProgrammingGuide_EN\u001b[0m \u001b[0;34m=\u001b[0m \u001b[0mfile\u001b[0m\u001b[0;34m.\u001b[0m\u001b[0mread\u001b[0m\u001b[0;34m(\u001b[0m\u001b[0;34m)\u001b[0m\u001b[0;34m\u001b[0m\u001b[0;34m\u001b[0m\u001b[0m\n\u001b[0;32m----> 3\u001b[0;31m \u001b[0mcommand_re\u001b[0m \u001b[0;34m=\u001b[0m \u001b[0mre\u001b[0m\u001b[0;34m.\u001b[0m\u001b[0mcompile\u001b[0m\u001b[0;34m(\u001b[0m\u001b[0;34m\"(:SYSTEM:[\\w]+)\"\u001b[0m\u001b[0;34m)\u001b[0m\u001b[0;34m\u001b[0m\u001b[0;34m\u001b[0m\u001b[0m\n\u001b[0m\u001b[1;32m      4\u001b[0m \u001b[0;32mfor\u001b[0m \u001b[0mresult\u001b[0m \u001b[0;32min\u001b[0m \u001b[0mcommand_re\u001b[0m\u001b[0;34m.\u001b[0m\u001b[0mfindall\u001b[0m\u001b[0;34m(\u001b[0m\u001b[0mDS1000DE_ProgrammingGuide_EN\u001b[0m\u001b[0;34m)\u001b[0m\u001b[0;34m:\u001b[0m\u001b[0;34m\u001b[0m\u001b[0;34m\u001b[0m\u001b[0m\n\u001b[1;32m      5\u001b[0m     \u001b[0;32mif\u001b[0m \u001b[0mresult\u001b[0m\u001b[0;34m.\u001b[0m\u001b[0mstartswith\u001b[0m\u001b[0;34m(\u001b[0m\u001b[0;34m\":SYSTEM:\"\u001b[0m\u001b[0;34m)\u001b[0m\u001b[0;34m:\u001b[0m\u001b[0;34m\u001b[0m\u001b[0;34m\u001b[0m\u001b[0m\n",
      "\u001b[0;31mNameError\u001b[0m: name 're' is not defined"
     ]
    }
   ],
   "source": [
    "with open(\"../python_Rigol/DS1000DE_ProgrammingGuide_EN.txt\", \"r\") as file:\n",
    "    DS1000DE_ProgrammingGuide_EN = file.read()\n",
    "command_re = re.compile(\"(:SYSTEM:[\\w]+)\")\n",
    "for result in command_re.findall(DS1000DE_ProgrammingGuide_EN):\n",
    "    if result.startswith(\":SYSTEM:\"):\n",
    "        print(result)"
   ]
  },
  {
   "cell_type": "code",
   "execution_count": null,
   "metadata": {},
   "outputs": [],
   "source": [
    "class CommandsFactory:\n",
    "    def __init__(self, *args, **kwargs):\n",
    "        if len(args)>0:\n",
    "            raise Exception(\"No.\")\n",
    "            \n",
    "        for key, value in kwargs.items():\n",
    "            setattr(self, key, value)\n",
    "    \n",
    "    def __str__(self):\n",
    "        return f\"{self.__class__.__name__.upper()}\""
   ]
  },
  {
   "cell_type": "code",
   "execution_count": 11,
   "metadata": {},
   "outputs": [
    {
     "ename": "NameError",
     "evalue": "name 'CommandsFactory' is not defined",
     "output_type": "error",
     "traceback": [
      "\u001b[0;31m---------------------------------------------------------------------------\u001b[0m",
      "\u001b[0;31mNameError\u001b[0m                                 Traceback (most recent call last)",
      "\u001b[0;32m<ipython-input-11-b3867dacd34e>\u001b[0m in \u001b[0;36m<module>\u001b[0;34m\u001b[0m\n\u001b[0;32m----> 1\u001b[0;31m \u001b[0mSystem\u001b[0m\u001b[0;34m=\u001b[0m\u001b[0mtype\u001b[0m\u001b[0;34m(\u001b[0m\u001b[0;34m\"System\"\u001b[0m\u001b[0;34m,\u001b[0m \u001b[0;34m(\u001b[0m\u001b[0mCommandsFactory\u001b[0m\u001b[0;34m,\u001b[0m \u001b[0;34m)\u001b[0m\u001b[0;34m,\u001b[0m \u001b[0;34m{\u001b[0m\u001b[0;34m}\u001b[0m\u001b[0;34m)\u001b[0m\u001b[0;34m\u001b[0m\u001b[0;34m\u001b[0m\u001b[0m\n\u001b[0m",
      "\u001b[0;31mNameError\u001b[0m: name 'CommandsFactory' is not defined"
     ]
    }
   ],
   "source": [
    "System=type(\"System\", (CommandsFactory, ), {})"
   ]
  },
  {
   "cell_type": "code",
   "execution_count": null,
   "metadata": {},
   "outputs": [],
   "source": [
    "def key_factory(key_str:str, wait: int=0):\n",
    "    def press_key(self):\n",
    "        command_string = f\":{self}:{key_str}\"\n",
    "        print(command_string)\n",
    "        self.device.write(f\":{self}:{key_str}\")\n",
    "    return press_key\n",
    "                          \n",
    "                          \n",
    "def key_factory2(key_str:str, wait: int=0):\n",
    "    key_str = key_str.strip().strip(\":\").split(\":\")[-1].upper()\n",
    "    key_function = key_factory(key_str, wait)                   \n",
    "    return key_str.lower(), key_function"
   ]
  },
  {
   "cell_type": "code",
   "execution_count": null,
   "metadata": {},
   "outputs": [],
   "source": [
    "def key_factory3(subsystem, command):\n",
    "    return f\":{subsystem.upper()}:{command.upper()}\""
   ]
  },
  {
   "cell_type": "code",
   "execution_count": null,
   "metadata": {},
   "outputs": [],
   "source": [
    "key_factory3(\"SYSTEM\", \"RUN\")"
   ]
  },
  {
   "cell_type": "code",
   "execution_count": null,
   "metadata": {},
   "outputs": [],
   "source": [
    "key_factory2(key_factory3(\"SYSTEM\", \"RUN\"))"
   ]
  },
  {
   "cell_type": "code",
   "execution_count": null,
   "metadata": {},
   "outputs": [],
   "source": []
  },
  {
   "cell_type": "code",
   "execution_count": null,
   "metadata": {},
   "outputs": [],
   "source": [
    "subsystem_commands = {\n",
    "    \"System\": [\"RUN\", \"STOP\", \"AUTO\", \"HARDCOPY\"]\n",
    "}\n",
    "for subsystem, subsystem_commands in subsystem_commands.items():\n",
    "    print(f\"{subsystem}\")\n",
    "    print(f\"{subsystem_commands}\")\n",
    "    command_dictionary = dict()\n",
    "    for command in subsystem_commands:\n",
    "        subsystem_command, subsystem_command_function = key_factory2(key_factory3(subsystem, command))\n",
    "        command_dictionary[subsystem_command]=subsystem_command_function\n",
    "    subsystem_class=type(subsystem, (CommandsFactory, ), command_dictionary)\n",
    "    setattr(RigolScope, subsystem.lower(), subsystem_class())\n"
   ]
  },
  {
   "cell_type": "code",
   "execution_count": null,
   "metadata": {},
   "outputs": [],
   "source": [
    "f = RigolScope.system"
   ]
  },
  {
   "cell_type": "code",
   "execution_count": null,
   "metadata": {},
   "outputs": [],
   "source": [
    "f"
   ]
  },
  {
   "cell_type": "code",
   "execution_count": null,
   "metadata": {},
   "outputs": [],
   "source": [
    "scope.device"
   ]
  },
  {
   "cell_type": "code",
   "execution_count": null,
   "metadata": {},
   "outputs": [],
   "source": [
    "setattr(scope.system, \"device\", scope.device)"
   ]
  },
  {
   "cell_type": "code",
   "execution_count": null,
   "metadata": {},
   "outputs": [],
   "source": [
    "scope.system.run()"
   ]
  },
  {
   "cell_type": "code",
   "execution_count": null,
   "metadata": {},
   "outputs": [],
   "source": [
    "class CommandsFactory:\n",
    "    def __init__(self, *args, **kwargs):\n",
    "        if len(args)>0:\n",
    "            raise Exception(\"No.\")\n",
    "            \n",
    "        for key, value in kwargs.items():\n",
    "            setattr(self, key, value)\n",
    "    \n",
    "    def __str__(self):\n",
    "        return f\"{self.__class__.__name__.upper()}\""
   ]
  },
  {
   "cell_type": "code",
   "execution_count": null,
   "metadata": {},
   "outputs": [],
   "source": [
    "ch"
   ]
  },
  {
   "cell_type": "code",
   "execution_count": null,
   "metadata": {},
   "outputs": [],
   "source": [
    "subsystem_commands = {\n",
    "    \"System\": [\"RUN\", \"STOP\", \"AUTO\", \"HARDCOPY\"]\n",
    "}\n",
    "for subsystem, subsystem_commands in subsystem_commands.items():\n",
    "    print(f\"{subsystem}\")\n",
    "    print(f\"{subsystem_commands}\")\n",
    "    command_dictionary = dict()\n",
    "    for command in subsystem_commands:\n",
    "        subsystem_command, subsystem_command_function = key_factory2(key_factory3(subsystem, command))\n",
    "        command_dictionary[subsystem_command]=subsystem_command_function\n",
    "    subsystem_class=type(subsystem, (CommandsFactory, ), command_dictionary)\n",
    "    setattr(RigolScope, subsystem.lower(), subsystem_class())\n"
   ]
  },
  {
   "cell_type": "code",
   "execution_count": null,
   "metadata": {},
   "outputs": [],
   "source": [
    "f.run()"
   ]
  },
  {
   "cell_type": "code",
   "execution_count": null,
   "metadata": {},
   "outputs": [],
   "source": [
    "f.stop()"
   ]
  },
  {
   "cell_type": "code",
   "execution_count": null,
   "metadata": {},
   "outputs": [],
   "source": [
    "scope.system.auto()"
   ]
  },
  {
   "cell_type": "code",
   "execution_count": null,
   "metadata": {},
   "outputs": [],
   "source": [
    "scope.system.start()"
   ]
  },
  {
   "cell_type": "code",
   "execution_count": null,
   "metadata": {},
   "outputs": [],
   "source": [
    "command_dictionary"
   ]
  },
  {
   "cell_type": "code",
   "execution_count": null,
   "metadata": {},
   "outputs": [],
   "source": [
    "RigolScope.SYSTem.RU"
   ]
  },
  {
   "cell_type": "code",
   "execution_count": null,
   "metadata": {},
   "outputs": [],
   "source": [
    "def "
   ]
  },
  {
   "cell_type": "code",
   "execution_count": null,
   "metadata": {},
   "outputs": [],
   "source": [
    "measurement.vpp()"
   ]
  },
  {
   "cell_type": "code",
   "execution_count": null,
   "metadata": {},
   "outputs": [],
   "source": [
    "command_re = re.compile(\":([^?]+)\\? \\[<source\")\n",
    "for result in command_re.findall(DS1000DE_ProgrammingGuide_EN):\n",
    "    result = result.strip()\n",
    "    if result.startswith(\":MEASure:\"):\n",
    "        attr_name, attr_get_function=measurement_factory2(result)\n",
    "        setattr(Measure, attr_name, property(attr_get_function))"
   ]
  },
  {
   "cell_type": "code",
   "execution_count": null,
   "metadata": {},
   "outputs": [],
   "source": [
    "measurement.vpp"
   ]
  },
  {
   "cell_type": "code",
   "execution_count": null,
   "metadata": {},
   "outputs": [],
   "source": [
    "channel.measurement.vpp"
   ]
  },
  {
   "cell_type": "code",
   "execution_count": null,
   "metadata": {},
   "outputs": [],
   "source": []
  },
  {
   "cell_type": "code",
   "execution_count": null,
   "metadata": {
    "scrolled": true
   },
   "outputs": [],
   "source": [
    "measurement_factory(\":MEASure:VPP?\")"
   ]
  },
  {
   "cell_type": "code",
   "execution_count": null,
   "metadata": {},
   "outputs": [],
   "source": [
    "measurement_factory(\":MEASure:VPP?\")"
   ]
  },
  {
   "cell_type": "code",
   "execution_count": null,
   "metadata": {},
   "outputs": [],
   "source": [
    "measurement_factory2(\":MEASure:VPP\")"
   ]
  },
  {
   "cell_type": "code",
   "execution_count": null,
   "metadata": {},
   "outputs": [],
   "source": [
    "setattr(Measure, )"
   ]
  },
  {
   "cell_type": "code",
   "execution_count": null,
   "metadata": {},
   "outputs": [],
   "source": [
    "with open(\"../python_Rigol/DS1000DE_ProgrammingGuide_EN.txt\", \"r\") as file:\n",
    "    DS1000DE_ProgrammingGuide_EN = file.read()"
   ]
  },
  {
   "cell_type": "code",
   "execution_count": null,
   "metadata": {},
   "outputs": [],
   "source": [
    "import re"
   ]
  },
  {
   "cell_type": "code",
   "execution_count": null,
   "metadata": {},
   "outputs": [],
   "source": [
    "me"
   ]
  },
  {
   "cell_type": "code",
   "execution_count": null,
   "metadata": {},
   "outputs": [],
   "source": [
    "command_re = re.compile(\":([^?]+)\\? \\[<source\")\n",
    "for result in command_re.findall(DS1000DE_ProgrammingGuide_EN):\n",
    "    result = result.strip()\n",
    "    if result.startswith(\":MEASure:\"):\n",
    "        attr_name, attr_get_function=measurement_factory2(result)\n",
    "        setattr(Measure, attr_name, attr_get_function)"
   ]
  },
  {
   "cell_type": "code",
   "execution_count": null,
   "metadata": {},
   "outputs": [],
   "source": [
    "measurement.vpp()"
   ]
  },
  {
   "cell_type": "code",
   "execution_count": null,
   "metadata": {},
   "outputs": [],
   "source": [
    "setattr(Channel, \"vpp\", measurement_factory(\":MEASure:VPP?\"))\n"
   ]
  },
  {
   "cell_type": "code",
   "execution_count": null,
   "metadata": {},
   "outputs": [],
   "source": [
    "c.device.write(\"ac\")\n",
    "float(c.device.read())"
   ]
  },
  {
   "cell_type": "code",
   "execution_count": null,
   "metadata": {},
   "outputs": [],
   "source": [
    "result"
   ]
  },
  {
   "cell_type": "code",
   "execution_count": null,
   "metadata": {},
   "outputs": [],
   "source": [
    "print(DS1000DE_ProgrammingGuide_EN)"
   ]
  },
  {
   "cell_type": "markdown",
   "metadata": {},
   "source": [
    "# System\n"
   ]
  },
  {
   "cell_type": "code",
   "execution_count": null,
   "metadata": {},
   "outputs": [],
   "source": [
    "import re"
   ]
  },
  {
   "cell_type": "code",
   "execution_count": null,
   "metadata": {},
   "outputs": [],
   "source": [
    "command_re = re.compile(\"(:SYSTEM:[\\w]+)\")\n",
    "for result in command_re.findall(DS1000DE_ProgrammingGuide_EN):\n",
    "    if result.startswith(\":SYSTEM\"):\n",
    "        print(result)"
   ]
  },
  {
   "cell_type": "code",
   "execution_count": null,
   "metadata": {},
   "outputs": [],
   "source": []
  },
  {
   "cell_type": "code",
   "execution_count": null,
   "metadata": {},
   "outputs": [],
   "source": []
  },
  {
   "cell_type": "markdown",
   "metadata": {},
   "source": [
    "# Keys"
   ]
  },
  {
   "cell_type": "code",
   "execution_count": null,
   "metadata": {},
   "outputs": [],
   "source": [
    "command_re = re.compile(\":([^?]+)\\? \\[<source\")\n",
    "for result in command_re.findall(DS1000DE_ProgrammingGuide_EN):\n",
    "    result = result.strip()\n",
    "    if result.startswith(\":MEASure:\"):\n",
    "        attr_name, attr_get_function=measurement_factory2(result)\n",
    "        setattr(Measure, attr_name, attr_get_function)"
   ]
  },
  {
   "cell_type": "code",
   "execution_count": null,
   "metadata": {},
   "outputs": [],
   "source": [
    "class CommandsFactory:\n",
    "    def __init__(self):\n",
    "        pass\n",
    "    \n",
    "    def __str__(self):\n",
    "        return f\"{self.__class__.__name__.upper()}\""
   ]
  },
  {
   "cell_type": "code",
   "execution_count": null,
   "metadata": {},
   "outputs": [],
   "source": [
    "Key=type(\"Key\", (CommandsFactory, ), {})"
   ]
  },
  {
   "cell_type": "code",
   "execution_count": null,
   "metadata": {},
   "outputs": [],
   "source": [
    "key = Key()"
   ]
  },
  {
   "cell_type": "code",
   "execution_count": null,
   "metadata": {},
   "outputs": [],
   "source": [
    "f\"{key}\""
   ]
  },
  {
   "cell_type": "code",
   "execution_count": null,
   "metadata": {},
   "outputs": [],
   "source": [
    "command_re = re.compile(\"(:KEY:[\\w]+)\")\n",
    "for result in command_re.findall(DS1000DE_ProgrammingGuide_EN):\n",
    "    if result.startswith(\":KEY\"):\n",
    "        print(result)\n",
    "        break"
   ]
  },
  {
   "cell_type": "code",
   "execution_count": null,
   "metadata": {},
   "outputs": [],
   "source": [
    "x = lambda y, z: print(y, z)"
   ]
  },
  {
   "cell_type": "code",
   "execution_count": null,
   "metadata": {},
   "outputs": [],
   "source": [
    "setattr(Key, \"foo\", x)"
   ]
  },
  {
   "cell_type": "code",
   "execution_count": null,
   "metadata": {},
   "outputs": [],
   "source": [
    "key.foo"
   ]
  },
  {
   "cell_type": "code",
   "execution_count": null,
   "metadata": {},
   "outputs": [],
   "source": [
    "key.foo(4)"
   ]
  },
  {
   "cell_type": "code",
   "execution_count": null,
   "metadata": {},
   "outputs": [],
   "source": [
    "x = lambda subsystem, command: print(f\"{subsystem}:{command}\")\n",
    "zip"
   ]
  },
  {
   "cell_type": "code",
   "execution_count": null,
   "metadata": {},
   "outputs": [],
   "source": [
    "def key_factory"
   ]
  },
  {
   "cell_type": "code",
   "execution_count": null,
   "metadata": {},
   "outputs": [],
   "source": [
    "def measurement_factory(query_string:str, length:int=1024):\n",
    "    query_string=str(query_string)\n",
    "    query_string=query_string.strip()\n",
    "    if not query_string.endswith(\"?\"):\n",
    "        query_string=f\"{query_string}?\"\n",
    "    def get_measurement(self):\n",
    "        self.device.write(f\"{query_string} {self.channel}\")\n",
    "        response = self.device.read(length=length)\n",
    "        try:\n",
    "            return float(response)\n",
    "        except:\n",
    "            return response\n",
    "        \n",
    "    return get_measurement\n",
    "\n",
    "def measurement_factory2(query_string:str, length:int=1024):\n",
    "    attr_name = query_string.strip(\"?\").split(\":\")[-1].lower()\n",
    "    return attr_name, measurement_factory(query_string, length)\n"
   ]
  }
 ],
 "metadata": {
  "kernelspec": {
   "display_name": "Python 3",
   "language": "python",
   "name": "python3"
  },
  "language_info": {
   "codemirror_mode": {
    "name": "ipython",
    "version": 3
   },
   "file_extension": ".py",
   "mimetype": "text/x-python",
   "name": "python",
   "nbconvert_exporter": "python",
   "pygments_lexer": "ipython3",
   "version": "3.8.0"
  }
 },
 "nbformat": 4,
 "nbformat_minor": 2
}
