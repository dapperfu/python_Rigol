{
 "cells": [
  {
   "cell_type": "code",
   "execution_count": 4,
   "metadata": {},
   "outputs": [
    {
     "name": "stdout",
     "output_type": "stream",
     "text": [
      "Looking in indexes: https://pypi.org/simple, https://www.piwheels.org/simple\n",
      "Collecting cached_property\n",
      "  Using cached https://files.pythonhosted.org/packages/3b/86/85c1be2e8db9e13ef9a350aecd6dea292bd612fa288c2f40d035bb750ded/cached_property-1.5.1-py2.py3-none-any.whl\n",
      "Installing collected packages: cached-property\n",
      "Successfully installed cached-property-1.5.1\n"
     ]
    }
   ],
   "source": [
    "!pip install cached_property"
   ]
  },
  {
   "cell_type": "code",
   "execution_count": 8,
   "metadata": {},
   "outputs": [],
   "source": [
    "import rigol\n",
    "import rigol.usbtmc\n",
    "import rigol.rigol"
   ]
  },
  {
   "cell_type": "code",
   "execution_count": 10,
   "metadata": {},
   "outputs": [
    {
     "data": {
      "text/plain": [
       "Usbtmc</dev/usbtmc0>"
      ]
     },
     "execution_count": 10,
     "metadata": {},
     "output_type": "execute_result"
    }
   ],
   "source": [
    "device = rigol.usbtmc.Usbtmc()\n",
    "device"
   ]
  },
  {
   "cell_type": "code",
   "execution_count": 11,
   "metadata": {},
   "outputs": [
    {
     "data": {
      "text/plain": [
       "'Rigol Technologies,DS1052D,DS1EU152500705,00.04.02.01.00'"
      ]
     },
     "execution_count": 11,
     "metadata": {},
     "output_type": "execute_result"
    }
   ],
   "source": [
    "device.name()"
   ]
  },
  {
   "cell_type": "code",
   "execution_count": 12,
   "metadata": {},
   "outputs": [],
   "source": [
    "device.reset()"
   ]
  },
  {
   "cell_type": "code",
   "execution_count": null,
   "metadata": {},
   "outputs": [],
   "source": [
    "from cached_property import cached_property\n",
    "class RigolScope:\n",
    "    \"\"\"Class to control a Rigol DS1000 series oscilloscope\"\"\"\n",
    "    def __init__(self, *args, device: [Usbtmc, device]=\"/dev/usbtmc0\"):\n",
    "        if len(args)>0:\n",
    "            raise Exception(\"No.\")\n",
    "        self.device = Usbtmc(device)\n",
    " \n",
    "    def write(self, command, response=None):\n",
    "        \"\"\"Send an arbitrary command directly to the scope\"\"\"\n",
    "        self.device.write(command, response)\n",
    " \n",
    "    def read(self, command):\n",
    "        \"\"\"Read an arbitrary amount of data directly from the scope\"\"\"\n",
    "        return self.device.read(command)\n",
    " \n",
    "    def reset(self):\n",
    "        \"\"\"Reset the instrument\"\"\"\n",
    "        self.device.reset()\n",
    "        \n",
    "    @cached_property\n",
    "    def __idn__(self):\n",
    "        return self.device.name()\n",
    "    \n",
    "    @property\n",
    "    def model(self):\n",
    "        return self.__idn__.split(\",\")[1]\n",
    "    \n",
    "    @property\n",
    "    def vendor(self):\n",
    "        return self.__idn__.split(\",\")[0]\n",
    "    \n",
    "    @property\n",
    "    def serial(self):\n",
    "        return self.__idn__.split(\",\")[2]\n",
    "    \n",
    "    @property\n",
    "    def version(self):\n",
    "        return self.__idn__.split(\",\")[3]\n",
    "    \n",
    "    def __repr__(self):\n",
    "        return f\"{self.__class__.__name__}<{self.model}>\"\n",
    "    \n",
    "    def __enter__(self):\n",
    "        print(\"in __enter__\")\n",
    "        return self\n",
    "    def __exit__(self, exception_type, exception_value, traceback):\n",
    "        print(\"in __exit__\")\n",
    "\n",
    "r = RigolScope()\n",
    "r"
   ]
  },
  {
   "cell_type": "code",
   "execution_count": null,
   "metadata": {},
   "outputs": [],
   "source": [
    "scope = r\n",
    "self=r"
   ]
  },
  {
   "cell_type": "code",
   "execution_count": null,
   "metadata": {},
   "outputs": [],
   "source": [
    "scope.device"
   ]
  },
  {
   "cell_type": "code",
   "execution_count": null,
   "metadata": {},
   "outputs": [],
   "source": [
    "assert scope.vendor==\"Rigol Technologies\"\n",
    "assert scope.model==\"DS1052D\"\n",
    "assert scope.version==\"00.04.02.01.00\""
   ]
  },
  {
   "cell_type": "markdown",
   "metadata": {},
   "source": [
    "# Keys"
   ]
  },
  {
   "cell_type": "code",
   "execution_count": null,
   "metadata": {},
   "outputs": [],
   "source": [
    "import re"
   ]
  },
  {
   "cell_type": "code",
   "execution_count": null,
   "metadata": {},
   "outputs": [],
   "source": [
    "with open(\"../Doc /DS1000DE_ProgrammingGuide_EN.txt\", \"r\") as file:\n",
    "    DS1000DE_ProgrammingGuide_EN = file.read()\n",
    "command_re = re.compile(\"(:KEY:[\\w]+)\")\n",
    "for result in command_re.findall(DS1000DE_ProgrammingGuide_EN):\n",
    "    if result.startswith(\":KEY\"):\n",
    "        print(result)"
   ]
  },
  {
   "cell_type": "code",
   "execution_count": null,
   "metadata": {},
   "outputs": [],
   "source": [
    "class CommandsFactory:\n",
    "    def __init__(self, *args, **kwargs):\n",
    "        if len(args)>0:\n",
    "            raise Exception(\"No.\")\n",
    "            \n",
    "        for key, value in kwargs.items():\n",
    "            setattr(self, key, value)\n",
    "    \n",
    "    def __str__(self):\n",
    "        return f\"{self.__class__.__name__.upper()}\""
   ]
  },
  {
   "cell_type": "code",
   "execution_count": null,
   "metadata": {},
   "outputs": [],
   "source": [
    "Subsystem=type(\"Subsystem\", (CommandsFactory, ), {})"
   ]
  },
  {
   "cell_type": "code",
   "execution_count": null,
   "metadata": {},
   "outputs": [],
   "source": [
    "Key=type(\"Key\", (Subsystem, ), {})"
   ]
  },
  {
   "cell_type": "code",
   "execution_count": null,
   "metadata": {},
   "outputs": [],
   "source": [
    "key = Key(device=device)t"
   ]
  },
  {
   "cell_type": "code",
   "execution_count": null,
   "metadata": {},
   "outputs": [],
   "source": [
    "f\"{key}\""
   ]
  },
  {
   "cell_type": "code",
   "execution_count": null,
   "metadata": {},
   "outputs": [],
   "source": [
    "command_re = re.compile(\"(:KEY:[\\w]+)\")\n",
    "for result in command_re.findall(DS1000DE_ProgrammingGuide_EN):\n",
    "    if result.startswith(\":KEY\"):\n",
    "        print(result)\n",
    "        break"
   ]
  },
  {
   "cell_type": "code",
   "execution_count": null,
   "metadata": {},
   "outputs": [],
   "source": [
    "def key_factory(key_str:str, wait: int=0):\n",
    "    def press_key(self):\n",
    "        command_string = f\":{self}:{key_str}\"\n",
    "        print(command_string)\n",
    "        self.device.write(f\":{self}:{key_str}\")\n",
    "    return press_key\n",
    "                          \n",
    "                          \n",
    "def key_factory2(key_str:str, wait: int=0):\n",
    "    key_str = key_str.strip().strip(\":\").split(\":\")[-1].upper()\n",
    "    key_function = key_factory(key_str, wait)                   \n",
    "    return key_str.lower(), key_function"
   ]
  },
  {
   "cell_type": "code",
   "execution_count": null,
   "metadata": {},
   "outputs": [],
   "source": [
    "result"
   ]
  },
  {
   "cell_type": "code",
   "execution_count": null,
   "metadata": {},
   "outputs": [],
   "source": [
    "key_factory(result)"
   ]
  },
  {
   "cell_type": "code",
   "execution_count": null,
   "metadata": {},
   "outputs": [],
   "source": [
    "key_factory(result)(key)"
   ]
  },
  {
   "cell_type": "code",
   "execution_count": null,
   "metadata": {},
   "outputs": [],
   "source": [
    "key_factory2(result)"
   ]
  },
  {
   "cell_type": "code",
   "execution_count": null,
   "metadata": {},
   "outputs": [],
   "source": [
    "key_str, key_function = key_factory2(result)"
   ]
  },
  {
   "cell_type": "code",
   "execution_count": null,
   "metadata": {},
   "outputs": [],
   "source": [
    "key_str"
   ]
  },
  {
   "cell_type": "code",
   "execution_count": null,
   "metadata": {},
   "outputs": [],
   "source": [
    "key_function(key)"
   ]
  },
  {
   "cell_type": "code",
   "execution_count": null,
   "metadata": {},
   "outputs": [],
   "source": [
    "setattr(Key, key_str, key_function)"
   ]
  },
  {
   "cell_type": "code",
   "execution_count": null,
   "metadata": {},
   "outputs": [],
   "source": [
    "command_re = re.compile(\"(:KEY:[\\w]+)\")\n",
    "subsystem_commands=dict()\n",
    "for result in command_re.findall(DS1000DE_ProgrammingGuide_EN):\n",
    "    if result.startswith(\":KEY\"):\n",
    "        key_str, key_function = key_factory2(result)\n",
    "        subsystem_commands[key_str] = key_function"
   ]
  },
  {
   "cell_type": "code",
   "execution_count": null,
   "metadata": {},
   "outputs": [],
   "source": [
    "Key=type(\"Key\", (Subsystem, ), subsystem_commands)"
   ]
  },
  {
   "cell_type": "code",
   "execution_count": null,
   "metadata": {},
   "outputs": [],
   "source": [
    "key=Key(device=device)"
   ]
  },
  {
   "cell_type": "code",
   "execution_count": null,
   "metadata": {},
   "outputs": [],
   "source": [
    "key.auto"
   ]
  },
  {
   "cell_type": "code",
   "execution_count": null,
   "metadata": {},
   "outputs": [],
   "source": [
    "key.auto()"
   ]
  },
  {
   "cell_type": "code",
   "execution_count": null,
   "metadata": {},
   "outputs": [],
   "source": [
    "key.auto()"
   ]
  },
  {
   "cell_type": "code",
   "execution_count": null,
   "metadata": {},
   "outputs": [],
   "source": [
    "key.device.reset()"
   ]
  },
  {
   "cell_type": "code",
   "execution_count": null,
   "metadata": {},
   "outputs": [],
   "source": [
    "key.channel1()"
   ]
  },
  {
   "cell_type": "code",
   "execution_count": null,
   "metadata": {},
   "outputs": [],
   "source": [
    "key.measure()"
   ]
  },
  {
   "cell_type": "code",
   "execution_count": null,
   "metadata": {},
   "outputs": [],
   "source": []
  }
 ],
 "metadata": {
  "kernelspec": {
   "display_name": "Python 3",
   "language": "python",
   "name": "python3"
  },
  "language_info": {
   "codemirror_mode": {
    "name": "ipython",
    "version": 3
   },
   "file_extension": ".py",
   "mimetype": "text/x-python",
   "name": "python",
   "nbconvert_exporter": "python",
   "pygments_lexer": "ipython3",
   "version": "3.7.3"
  }
 },
 "nbformat": 4,
 "nbformat_minor": 2
}
