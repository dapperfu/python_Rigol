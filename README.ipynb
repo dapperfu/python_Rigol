{
 "cells": [
  {
   "cell_type": "markdown",
   "metadata": {},
   "source": [
    "# OSH-HIL Components"
   ]
  },
  {
   "cell_type": "markdown",
   "metadata": {},
   "source": [
    "## Signals\n",
    "\n",
    "### Oscilloscopes\n",
    "\n",
    "- Rigol DS1052D\n",
    "\n",
    "\n",
    "### Signal Generator\n",
    "\n",
    "- MHS5200"
   ]
  },
  {
   "cell_type": "markdown",
   "metadata": {},
   "source": [
    "## Software\n",
    "\n",
    "### Jupyter Notebooks\n",
    "\n",
    "\n",
    "### pytest\n",
    "\n",
    "### pandas\n",
    "\n",
    "### numpy\n",
    "\n",
    "### Plotting\n",
    "\n",
    "#### matplotlib\n",
    "\n",
    "#### seaborn"
   ]
  },
  {
   "cell_type": "code",
   "execution_count": null,
   "metadata": {},
   "outputs": [],
   "source": []
  }
 ],
 "metadata": {
  "kernelspec": {
   "display_name": "Python 3",
   "language": "python",
   "name": "python3"
  },
  "language_info": {
   "codemirror_mode": {
    "name": "ipython",
    "version": 3
   },
   "file_extension": ".py",
   "mimetype": "text/x-python",
   "name": "python",
   "nbconvert_exporter": "python",
   "pygments_lexer": "ipython3",
   "version": "3.8.0"
  }
 },
 "nbformat": 4,
 "nbformat_minor": 2
}
